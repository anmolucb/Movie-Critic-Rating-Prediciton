{
 "cells": [
  {
   "cell_type": "code",
   "execution_count": 73,
   "id": "273cb384",
   "metadata": {},
   "outputs": [],
   "source": [
    "import os\n",
    "import pandas as pd\n",
    "import numpy as np\n",
    "from string import punctuation\n",
    "import nltk\n",
    "import seaborn as sns\n",
    "from nltk.tokenize import word_tokenize\n",
    "from nltk.corpus import stopwords\n",
    "from nltk.stem import PorterStemmer\n",
    "from nltk.tokenize.treebank import TreebankWordDetokenizer\n",
    "from sklearn.feature_extraction.text import CountVectorizer\n",
    "from sklearn.metrics import plot_confusion_matrix\n",
    "from sklearn.metrics import precision_score, recall_score, multilabel_confusion_matrix, ConfusionMatrixDisplay, confusion_matrix"
   ]
  },
  {
   "cell_type": "code",
   "execution_count": 2,
   "id": "75526cb3",
   "metadata": {},
   "outputs": [
    {
     "data": {
      "text/html": [
       "<div>\n",
       "<style scoped>\n",
       "    .dataframe tbody tr th:only-of-type {\n",
       "        vertical-align: middle;\n",
       "    }\n",
       "\n",
       "    .dataframe tbody tr th {\n",
       "        vertical-align: top;\n",
       "    }\n",
       "\n",
       "    .dataframe thead th {\n",
       "        text-align: right;\n",
       "    }\n",
       "</style>\n",
       "<table border=\"1\" class=\"dataframe\">\n",
       "  <thead>\n",
       "    <tr style=\"text-align: right;\">\n",
       "      <th></th>\n",
       "      <th>rotten_tomatoes_link</th>\n",
       "      <th>movie_title</th>\n",
       "      <th>movie_info</th>\n",
       "      <th>critics_consensus</th>\n",
       "      <th>content_rating</th>\n",
       "      <th>genres</th>\n",
       "      <th>directors</th>\n",
       "      <th>authors</th>\n",
       "      <th>actors</th>\n",
       "      <th>original_release_date</th>\n",
       "      <th>...</th>\n",
       "      <th>production_company</th>\n",
       "      <th>tomatometer_status</th>\n",
       "      <th>tomatometer_rating</th>\n",
       "      <th>tomatometer_count</th>\n",
       "      <th>audience_status</th>\n",
       "      <th>audience_rating</th>\n",
       "      <th>audience_count</th>\n",
       "      <th>tomatometer_top_critics_count</th>\n",
       "      <th>tomatometer_fresh_critics_count</th>\n",
       "      <th>tomatometer_rotten_critics_count</th>\n",
       "    </tr>\n",
       "  </thead>\n",
       "  <tbody>\n",
       "    <tr>\n",
       "      <th>0</th>\n",
       "      <td>m/0814255</td>\n",
       "      <td>Percy Jackson &amp; the Olympians: The Lightning T...</td>\n",
       "      <td>Always trouble-prone, the life of teenager Per...</td>\n",
       "      <td>Though it may seem like just another Harry Pot...</td>\n",
       "      <td>PG</td>\n",
       "      <td>Action &amp; Adventure, Comedy, Drama, Science Fic...</td>\n",
       "      <td>Chris Columbus</td>\n",
       "      <td>Craig Titley, Chris Columbus, Rick Riordan</td>\n",
       "      <td>Logan Lerman, Brandon T. Jackson, Alexandra Da...</td>\n",
       "      <td>2010-02-12</td>\n",
       "      <td>...</td>\n",
       "      <td>20th Century Fox</td>\n",
       "      <td>Rotten</td>\n",
       "      <td>49.0</td>\n",
       "      <td>149.0</td>\n",
       "      <td>Spilled</td>\n",
       "      <td>53.0</td>\n",
       "      <td>254421.0</td>\n",
       "      <td>43</td>\n",
       "      <td>73</td>\n",
       "      <td>76</td>\n",
       "    </tr>\n",
       "    <tr>\n",
       "      <th>1</th>\n",
       "      <td>m/0878835</td>\n",
       "      <td>Please Give</td>\n",
       "      <td>Kate (Catherine Keener) and her husband Alex (...</td>\n",
       "      <td>Nicole Holofcener's newest might seem slight i...</td>\n",
       "      <td>R</td>\n",
       "      <td>Comedy</td>\n",
       "      <td>Nicole Holofcener</td>\n",
       "      <td>Nicole Holofcener</td>\n",
       "      <td>Catherine Keener, Amanda Peet, Oliver Platt, R...</td>\n",
       "      <td>2010-04-30</td>\n",
       "      <td>...</td>\n",
       "      <td>Sony Pictures Classics</td>\n",
       "      <td>Certified-Fresh</td>\n",
       "      <td>87.0</td>\n",
       "      <td>142.0</td>\n",
       "      <td>Upright</td>\n",
       "      <td>64.0</td>\n",
       "      <td>11574.0</td>\n",
       "      <td>44</td>\n",
       "      <td>123</td>\n",
       "      <td>19</td>\n",
       "    </tr>\n",
       "  </tbody>\n",
       "</table>\n",
       "<p>2 rows × 22 columns</p>\n",
       "</div>"
      ],
      "text/plain": [
       "  rotten_tomatoes_link                                        movie_title  \\\n",
       "0            m/0814255  Percy Jackson & the Olympians: The Lightning T...   \n",
       "1            m/0878835                                        Please Give   \n",
       "\n",
       "                                          movie_info  \\\n",
       "0  Always trouble-prone, the life of teenager Per...   \n",
       "1  Kate (Catherine Keener) and her husband Alex (...   \n",
       "\n",
       "                                   critics_consensus content_rating  \\\n",
       "0  Though it may seem like just another Harry Pot...             PG   \n",
       "1  Nicole Holofcener's newest might seem slight i...              R   \n",
       "\n",
       "                                              genres          directors  \\\n",
       "0  Action & Adventure, Comedy, Drama, Science Fic...     Chris Columbus   \n",
       "1                                             Comedy  Nicole Holofcener   \n",
       "\n",
       "                                      authors  \\\n",
       "0  Craig Titley, Chris Columbus, Rick Riordan   \n",
       "1                           Nicole Holofcener   \n",
       "\n",
       "                                              actors original_release_date  \\\n",
       "0  Logan Lerman, Brandon T. Jackson, Alexandra Da...            2010-02-12   \n",
       "1  Catherine Keener, Amanda Peet, Oliver Platt, R...            2010-04-30   \n",
       "\n",
       "   ...      production_company  tomatometer_status tomatometer_rating  \\\n",
       "0  ...        20th Century Fox              Rotten               49.0   \n",
       "1  ...  Sony Pictures Classics     Certified-Fresh               87.0   \n",
       "\n",
       "  tomatometer_count  audience_status  audience_rating audience_count  \\\n",
       "0             149.0          Spilled             53.0       254421.0   \n",
       "1             142.0          Upright             64.0        11574.0   \n",
       "\n",
       "   tomatometer_top_critics_count  tomatometer_fresh_critics_count  \\\n",
       "0                             43                               73   \n",
       "1                             44                              123   \n",
       "\n",
       "   tomatometer_rotten_critics_count  \n",
       "0                                76  \n",
       "1                                19  \n",
       "\n",
       "[2 rows x 22 columns]"
      ]
     },
     "execution_count": 2,
     "metadata": {},
     "output_type": "execute_result"
    }
   ],
   "source": [
    "f_name = 'rotten_tomatoes_movies.csv'\n",
    "raw_data = pd.read_csv(f_name)\n",
    "raw_data.head(2)"
   ]
  },
  {
   "cell_type": "markdown",
   "id": "2f6fbf65",
   "metadata": {},
   "source": [
    "### Column Description\n",
    "**movie_title**: title of the movie as displayed on the Rotten Tomatoes website.<br>\n",
    "**critics_consensus**: comment from Rotten Tomatoes<br>\n",
    "**content_rating**: category based on the movie suitability for audience<br>\n",
    "**genres**: movie genres separated by commes, if multiple<br>\n",
    "**runtime**: movie runtume (in minutes)<br>\n",
    "**tomatometer_status**: tomatometer value of \"Rotten\" (less than 60% positive reviews), \"Fresh\" (at least 60% of positive reviews), and \"Certified Fresh\" (at least 75% of positive reviews, at least 80 reviews of which at least 5 from top critics)<br>\n",
    "**tomatometer_rating**: percentage of positive critic ratings<br>\n",
    "**audience_status**: audience value of \"Spilled\" (less than 60% of users gave a rating of at least 3.5) or \"Upright\" (at least 60% of users gave a rating of at least 3.5)<br>\n",
    "**audience_rating**: percentage of positive user ratings<br>"
   ]
  },
  {
   "cell_type": "code",
   "execution_count": 3,
   "id": "42bb902a",
   "metadata": {},
   "outputs": [
    {
     "data": {
      "text/html": [
       "<div>\n",
       "<style scoped>\n",
       "    .dataframe tbody tr th:only-of-type {\n",
       "        vertical-align: middle;\n",
       "    }\n",
       "\n",
       "    .dataframe tbody tr th {\n",
       "        vertical-align: top;\n",
       "    }\n",
       "\n",
       "    .dataframe thead th {\n",
       "        text-align: right;\n",
       "    }\n",
       "</style>\n",
       "<table border=\"1\" class=\"dataframe\">\n",
       "  <thead>\n",
       "    <tr style=\"text-align: right;\">\n",
       "      <th></th>\n",
       "      <th>movie_title</th>\n",
       "      <th>audience_rating</th>\n",
       "      <th>runtime</th>\n",
       "      <th>content_rating</th>\n",
       "      <th>audience_status</th>\n",
       "      <th>audience_status</th>\n",
       "      <th>genres</th>\n",
       "      <th>critics_consensus</th>\n",
       "    </tr>\n",
       "  </thead>\n",
       "  <tbody>\n",
       "    <tr>\n",
       "      <th>0</th>\n",
       "      <td>Percy Jackson &amp; the Olympians: The Lightning T...</td>\n",
       "      <td>53.0</td>\n",
       "      <td>119.0</td>\n",
       "      <td>PG</td>\n",
       "      <td>Spilled</td>\n",
       "      <td>Spilled</td>\n",
       "      <td>Action &amp; Adventure, Comedy, Drama, Science Fic...</td>\n",
       "      <td>Though it may seem like just another Harry Pot...</td>\n",
       "    </tr>\n",
       "    <tr>\n",
       "      <th>1</th>\n",
       "      <td>Please Give</td>\n",
       "      <td>64.0</td>\n",
       "      <td>90.0</td>\n",
       "      <td>R</td>\n",
       "      <td>Upright</td>\n",
       "      <td>Upright</td>\n",
       "      <td>Comedy</td>\n",
       "      <td>Nicole Holofcener's newest might seem slight i...</td>\n",
       "    </tr>\n",
       "  </tbody>\n",
       "</table>\n",
       "</div>"
      ],
      "text/plain": [
       "                                         movie_title  audience_rating  \\\n",
       "0  Percy Jackson & the Olympians: The Lightning T...             53.0   \n",
       "1                                        Please Give             64.0   \n",
       "\n",
       "   runtime content_rating audience_status audience_status  \\\n",
       "0    119.0             PG         Spilled         Spilled   \n",
       "1     90.0              R         Upright         Upright   \n",
       "\n",
       "                                              genres  \\\n",
       "0  Action & Adventure, Comedy, Drama, Science Fic...   \n",
       "1                                             Comedy   \n",
       "\n",
       "                                   critics_consensus  \n",
       "0  Though it may seem like just another Harry Pot...  \n",
       "1  Nicole Holofcener's newest might seem slight i...  "
      ]
     },
     "execution_count": 3,
     "metadata": {},
     "output_type": "execute_result"
    }
   ],
   "source": [
    "#selecting needed columns\n",
    "columns = ['movie_title', 'audience_rating', 'runtime', 'content_rating', 'audience_status', \n",
    "           'audience_status', 'genres', 'critics_consensus']\n",
    "movies_info =raw_data[columns] \n",
    "movies_info.head(2)"
   ]
  },
  {
   "cell_type": "code",
   "execution_count": 4,
   "id": "20654d81",
   "metadata": {},
   "outputs": [
    {
     "name": "stdout",
     "output_type": "stream",
     "text": [
      "<class 'pandas.core.frame.DataFrame'>\n",
      "RangeIndex: 17712 entries, 0 to 17711\n",
      "Data columns (total 8 columns):\n",
      " #   Column             Non-Null Count  Dtype  \n",
      "---  ------             --------------  -----  \n",
      " 0   movie_title        17712 non-null  object \n",
      " 1   audience_rating    17416 non-null  float64\n",
      " 2   runtime            17398 non-null  float64\n",
      " 3   content_rating     17712 non-null  object \n",
      " 4   audience_status    17264 non-null  object \n",
      " 5   audience_status    17264 non-null  object \n",
      " 6   genres             17693 non-null  object \n",
      " 7   critics_consensus  9134 non-null   object \n",
      "dtypes: float64(2), object(6)\n",
      "memory usage: 1.1+ MB\n"
     ]
    },
    {
     "data": {
      "text/html": [
       "<div>\n",
       "<style scoped>\n",
       "    .dataframe tbody tr th:only-of-type {\n",
       "        vertical-align: middle;\n",
       "    }\n",
       "\n",
       "    .dataframe tbody tr th {\n",
       "        vertical-align: top;\n",
       "    }\n",
       "\n",
       "    .dataframe thead th {\n",
       "        text-align: right;\n",
       "    }\n",
       "</style>\n",
       "<table border=\"1\" class=\"dataframe\">\n",
       "  <thead>\n",
       "    <tr style=\"text-align: right;\">\n",
       "      <th></th>\n",
       "      <th>audience_rating</th>\n",
       "      <th>runtime</th>\n",
       "    </tr>\n",
       "  </thead>\n",
       "  <tbody>\n",
       "    <tr>\n",
       "      <th>count</th>\n",
       "      <td>17416.000000</td>\n",
       "      <td>17398.000000</td>\n",
       "    </tr>\n",
       "    <tr>\n",
       "      <th>mean</th>\n",
       "      <td>60.554260</td>\n",
       "      <td>102.214048</td>\n",
       "    </tr>\n",
       "    <tr>\n",
       "      <th>std</th>\n",
       "      <td>20.543369</td>\n",
       "      <td>18.702511</td>\n",
       "    </tr>\n",
       "    <tr>\n",
       "      <th>min</th>\n",
       "      <td>0.000000</td>\n",
       "      <td>5.000000</td>\n",
       "    </tr>\n",
       "    <tr>\n",
       "      <th>25%</th>\n",
       "      <td>45.000000</td>\n",
       "      <td>90.000000</td>\n",
       "    </tr>\n",
       "    <tr>\n",
       "      <th>50%</th>\n",
       "      <td>63.000000</td>\n",
       "      <td>99.000000</td>\n",
       "    </tr>\n",
       "    <tr>\n",
       "      <th>75%</th>\n",
       "      <td>78.000000</td>\n",
       "      <td>111.000000</td>\n",
       "    </tr>\n",
       "    <tr>\n",
       "      <th>max</th>\n",
       "      <td>100.000000</td>\n",
       "      <td>266.000000</td>\n",
       "    </tr>\n",
       "  </tbody>\n",
       "</table>\n",
       "</div>"
      ],
      "text/plain": [
       "       audience_rating       runtime\n",
       "count     17416.000000  17398.000000\n",
       "mean         60.554260    102.214048\n",
       "std          20.543369     18.702511\n",
       "min           0.000000      5.000000\n",
       "25%          45.000000     90.000000\n",
       "50%          63.000000     99.000000\n",
       "75%          78.000000    111.000000\n",
       "max         100.000000    266.000000"
      ]
     },
     "execution_count": 4,
     "metadata": {},
     "output_type": "execute_result"
    }
   ],
   "source": [
    "#depending on what analysis we will like to do, we can drop rows with NULL values\n",
    "movies_info.info()\n",
    "movies_info.describe()"
   ]
  },
  {
   "cell_type": "markdown",
   "id": "1167c906",
   "metadata": {},
   "source": [
    "colums_for_predicting_genre = ['movie_title', 'runtime', 'genres', 'actors', 'directors', 'production_company']\n",
    "genre_info = raw_data[colums_for_predicting_genre]\n",
    "\n",
    "genre_info.head(2)"
   ]
  },
  {
   "cell_type": "markdown",
   "id": "ab31a052",
   "metadata": {},
   "source": [
    "### Workinging on movie info"
   ]
  },
  {
   "cell_type": "code",
   "execution_count": 5,
   "id": "32112dfa",
   "metadata": {},
   "outputs": [
    {
     "data": {
      "text/html": [
       "<div>\n",
       "<style scoped>\n",
       "    .dataframe tbody tr th:only-of-type {\n",
       "        vertical-align: middle;\n",
       "    }\n",
       "\n",
       "    .dataframe tbody tr th {\n",
       "        vertical-align: top;\n",
       "    }\n",
       "\n",
       "    .dataframe thead th {\n",
       "        text-align: right;\n",
       "    }\n",
       "</style>\n",
       "<table border=\"1\" class=\"dataframe\">\n",
       "  <thead>\n",
       "    <tr style=\"text-align: right;\">\n",
       "      <th></th>\n",
       "      <th>movie_title</th>\n",
       "      <th>audience_rating</th>\n",
       "      <th>runtime</th>\n",
       "      <th>content_rating</th>\n",
       "      <th>audience_status</th>\n",
       "      <th>audience_status</th>\n",
       "      <th>genres</th>\n",
       "      <th>critics_consensus</th>\n",
       "    </tr>\n",
       "  </thead>\n",
       "  <tbody>\n",
       "    <tr>\n",
       "      <th>0</th>\n",
       "      <td>Percy Jackson &amp; the Olympians: The Lightning T...</td>\n",
       "      <td>53.0</td>\n",
       "      <td>119.0</td>\n",
       "      <td>PG</td>\n",
       "      <td>Spilled</td>\n",
       "      <td>Spilled</td>\n",
       "      <td>Action &amp; Adventure, Comedy, Drama, Science Fic...</td>\n",
       "      <td>Though it may seem like just another Harry Pot...</td>\n",
       "    </tr>\n",
       "    <tr>\n",
       "      <th>1</th>\n",
       "      <td>Please Give</td>\n",
       "      <td>64.0</td>\n",
       "      <td>90.0</td>\n",
       "      <td>R</td>\n",
       "      <td>Upright</td>\n",
       "      <td>Upright</td>\n",
       "      <td>Comedy</td>\n",
       "      <td>Nicole Holofcener's newest might seem slight i...</td>\n",
       "    </tr>\n",
       "  </tbody>\n",
       "</table>\n",
       "</div>"
      ],
      "text/plain": [
       "                                         movie_title  audience_rating  \\\n",
       "0  Percy Jackson & the Olympians: The Lightning T...             53.0   \n",
       "1                                        Please Give             64.0   \n",
       "\n",
       "   runtime content_rating audience_status audience_status  \\\n",
       "0    119.0             PG         Spilled         Spilled   \n",
       "1     90.0              R         Upright         Upright   \n",
       "\n",
       "                                              genres  \\\n",
       "0  Action & Adventure, Comedy, Drama, Science Fic...   \n",
       "1                                             Comedy   \n",
       "\n",
       "                                   critics_consensus  \n",
       "0  Though it may seem like just another Harry Pot...  \n",
       "1  Nicole Holofcener's newest might seem slight i...  "
      ]
     },
     "execution_count": 5,
     "metadata": {},
     "output_type": "execute_result"
    }
   ],
   "source": [
    "#Dropping nan values first since we have alot of missing value in the critice_consensus column\n",
    "movie_nona = movies_info.dropna()\n",
    "movie_nona.reset_index(drop=True).head(2)                  "
   ]
  },
  {
   "cell_type": "markdown",
   "id": "3c2f3642",
   "metadata": {},
   "source": [
    "## 1.1 Data Prep for Analysis\n",
    "**Text Analysis (critics_concensus)**"
   ]
  },
  {
   "cell_type": "code",
   "execution_count": 6,
   "id": "9f9a045b",
   "metadata": {},
   "outputs": [
    {
     "data": {
      "text/plain": [
       "0    Though it may seem like just another Harry Pot...\n",
       "1    Nicole Holofcener's newest might seem slight i...\n",
       "Name: critics_consensus, dtype: object"
      ]
     },
     "execution_count": 6,
     "metadata": {},
     "output_type": "execute_result"
    }
   ],
   "source": [
    "text = movie_nona['critics_consensus'].astype(str)\n",
    "text.head(2)"
   ]
  },
  {
   "cell_type": "code",
   "execution_count": 7,
   "id": "38a65011",
   "metadata": {},
   "outputs": [
    {
     "data": {
      "text/plain": [
       "0    though it may seem like just another harry pot...\n",
       "1    nicole holofcener's newest might seem slight i...\n",
       "Name: critics_consensus, dtype: object"
      ]
     },
     "execution_count": 7,
     "metadata": {},
     "output_type": "execute_result"
    }
   ],
   "source": [
    "#change to lower_case\n",
    "text_lowercase = text.str.lower()\n",
    "text_lowercase.astype(str).head(2)"
   ]
  },
  {
   "cell_type": "code",
   "execution_count": 8,
   "id": "ba4e40bc",
   "metadata": {},
   "outputs": [],
   "source": [
    "#Removing Punctuation and digits\n",
    "def remove_punct_dig(document):\n",
    "    no_punct = ''.join([character for character in document if character not in punctuation])\n",
    "    no_punct_dij = ''.join([character for character in no_punct if not character.isdigit()])\n",
    "    return no_punct_dij"
   ]
  },
  {
   "cell_type": "code",
   "execution_count": 9,
   "id": "d8f4bba9",
   "metadata": {},
   "outputs": [
    {
     "data": {
      "text/plain": [
       "0    though it may seem like just another harry pot...\n",
       "1    nicole holofceners newest might seem slight in...\n",
       "Name: critics_consensus, dtype: object"
      ]
     },
     "execution_count": 9,
     "metadata": {},
     "output_type": "execute_result"
    }
   ],
   "source": [
    "text_no_p_d = text_lowercase.apply(remove_punct_dig)\n",
    "text_no_p_d.head(2)"
   ]
  },
  {
   "cell_type": "code",
   "execution_count": 10,
   "id": "a7ac3aed",
   "metadata": {},
   "outputs": [
    {
     "data": {
      "text/plain": [
       "0    [though, it, may, seem, like, just, another, h...\n",
       "1    [nicole, holofceners, newest, might, seem, sli...\n",
       "Name: critics_consensus, dtype: object"
      ]
     },
     "execution_count": 10,
     "metadata": {},
     "output_type": "execute_result"
    }
   ],
   "source": [
    "#Tokenization\n",
    "text_tokenized = text_no_p_d.apply(word_tokenize)\n",
    "text_tokenized.head(2)"
   ]
  },
  {
   "cell_type": "code",
   "execution_count": 11,
   "id": "b2fcf479",
   "metadata": {},
   "outputs": [],
   "source": [
    "#Removing Stopwords\n",
    "stop_words = set(stopwords.words('english'))\n",
    "\n",
    "def remove_stopwords(document):\n",
    "    words = [word for word in document if not word in stop_words]\n",
    "    return words"
   ]
  },
  {
   "cell_type": "code",
   "execution_count": 12,
   "id": "be696277",
   "metadata": {},
   "outputs": [
    {
     "data": {
      "text/plain": [
       "0    [though, may, seem, like, another, harry, pott...\n",
       "1    [nicole, holofceners, newest, might, seem, sli...\n",
       "Name: critics_consensus, dtype: object"
      ]
     },
     "execution_count": 12,
     "metadata": {},
     "output_type": "execute_result"
    }
   ],
   "source": [
    "text_no_stop = text_tokenized.apply(remove_stopwords)\n",
    "text_no_stop.head(2)"
   ]
  },
  {
   "cell_type": "code",
   "execution_count": 13,
   "id": "b3341f75",
   "metadata": {},
   "outputs": [],
   "source": [
    "#Stemming\n",
    "porter = PorterStemmer()\n",
    "\n",
    "def stemmer(document):    \n",
    "    stemmed_document = [porter.stem(word) for word in document]    \n",
    "    return stemmed_document"
   ]
  },
  {
   "cell_type": "code",
   "execution_count": 14,
   "id": "a3b0ffab",
   "metadata": {},
   "outputs": [
    {
     "data": {
      "text/plain": [
       "0    [though, may, seem, like, anoth, harri, potter...\n",
       "1    [nicol, holofcen, newest, might, seem, slight,...\n",
       "Name: critics_consensus, dtype: object"
      ]
     },
     "execution_count": 14,
     "metadata": {},
     "output_type": "execute_result"
    }
   ],
   "source": [
    "text_stemmed = text_no_stop.apply(stemmer)\n",
    "text_stemmed.head(2)"
   ]
  },
  {
   "cell_type": "code",
   "execution_count": 15,
   "id": "9f2be8ae",
   "metadata": {},
   "outputs": [
    {
     "data": {
      "text/plain": [
       "0    though may seem like anoth harri potter knocko...\n",
       "1    nicol holofcen newest might seem slight place ...\n",
       "Name: critics_consensus, dtype: object"
      ]
     },
     "execution_count": 15,
     "metadata": {},
     "output_type": "execute_result"
    }
   ],
   "source": [
    "#Detokenization\n",
    "text_detokenized = text_stemmed.apply(TreebankWordDetokenizer().detokenize)\n",
    "text_detokenized.head(2)"
   ]
  },
  {
   "cell_type": "code",
   "execution_count": 16,
   "id": "fc412966",
   "metadata": {},
   "outputs": [
    {
     "data": {
      "text/plain": [
       "<8898x46 sparse matrix of type '<class 'numpy.int64'>'\n",
       "\twith 19277 stored elements in Compressed Sparse Row format>"
      ]
     },
     "execution_count": 16,
     "metadata": {},
     "output_type": "execute_result"
    }
   ],
   "source": [
    "# Document-term Matrix\n",
    "countvec = CountVectorizer(min_df=0.03)\n",
    "\n",
    "sparse_dtm = countvec.fit_transform(text_detokenized)\n",
    "sparse_dtm"
   ]
  },
  {
   "cell_type": "code",
   "execution_count": 17,
   "id": "1ac047bb",
   "metadata": {},
   "outputs": [],
   "source": [
    "dtm_pre = pd.DataFrame(sparse_dtm.toarray(), columns=countvec.get_feature_names_out(), index=text.index)\n",
    "dtm = dtm_pre.add_suffix('_critic')\n"
   ]
  },
  {
   "cell_type": "code",
   "execution_count": 18,
   "id": "4e713ca5",
   "metadata": {},
   "outputs": [
    {
     "name": "stdout",
     "output_type": "stream",
     "text": [
      "perform      1360\n",
      "stori         857\n",
      "film          712\n",
      "cast          704\n",
      "movi          626\n",
      "make          592\n",
      "offer         588\n",
      "comedi        539\n",
      "charact       505\n",
      "enough        500\n",
      "may           456\n",
      "drama         449\n",
      "thriller      435\n",
      "director      431\n",
      "plot          430\n",
      "visual        427\n",
      "entertain     411\n",
      "work          390\n",
      "effect        379\n",
      "action        376\n",
      "talent        373\n",
      "look          369\n",
      "power         367\n",
      "charm         359\n",
      "one           353\n",
      "viewer        345\n",
      "though        342\n",
      "star          340\n",
      "lack          339\n",
      "funni         335\n",
      "fan           332\n",
      "direct        323\n",
      "thrill        318\n",
      "featur        316\n",
      "humor         312\n",
      "script        309\n",
      "genr          307\n",
      "life          305\n",
      "strong        304\n",
      "take          295\n",
      "even          284\n",
      "classic       276\n",
      "horror        274\n",
      "time          274\n",
      "lead          273\n",
      "origin        271\n",
      "dtype: int64\n"
     ]
    }
   ],
   "source": [
    "frequencies = dtm_pre.sum().sort_values(ascending=False)\n",
    "print(frequencies[frequencies > 30])"
   ]
  },
  {
   "cell_type": "code",
   "execution_count": 19,
   "id": "3e35a8d9",
   "metadata": {},
   "outputs": [
    {
     "data": {
      "text/html": [
       "<div>\n",
       "<style scoped>\n",
       "    .dataframe tbody tr th:only-of-type {\n",
       "        vertical-align: middle;\n",
       "    }\n",
       "\n",
       "    .dataframe tbody tr th {\n",
       "        vertical-align: top;\n",
       "    }\n",
       "\n",
       "    .dataframe thead th {\n",
       "        text-align: right;\n",
       "    }\n",
       "</style>\n",
       "<table border=\"1\" class=\"dataframe\">\n",
       "  <thead>\n",
       "    <tr style=\"text-align: right;\">\n",
       "      <th></th>\n",
       "      <th>audience_rating</th>\n",
       "      <th>runtime</th>\n",
       "      <th>content_rating</th>\n",
       "      <th>audience_status</th>\n",
       "      <th>audience_status</th>\n",
       "      <th>genres</th>\n",
       "      <th>action_critic</th>\n",
       "      <th>cast_critic</th>\n",
       "      <th>charact_critic</th>\n",
       "      <th>charm_critic</th>\n",
       "      <th>...</th>\n",
       "      <th>strong_critic</th>\n",
       "      <th>take_critic</th>\n",
       "      <th>talent_critic</th>\n",
       "      <th>though_critic</th>\n",
       "      <th>thrill_critic</th>\n",
       "      <th>thriller_critic</th>\n",
       "      <th>time_critic</th>\n",
       "      <th>viewer_critic</th>\n",
       "      <th>visual_critic</th>\n",
       "      <th>work_critic</th>\n",
       "    </tr>\n",
       "  </thead>\n",
       "  <tbody>\n",
       "    <tr>\n",
       "      <th>0</th>\n",
       "      <td>53.0</td>\n",
       "      <td>119.0</td>\n",
       "      <td>PG</td>\n",
       "      <td>Spilled</td>\n",
       "      <td>Spilled</td>\n",
       "      <td>Action &amp; Adventure, Comedy, Drama, Science Fic...</td>\n",
       "      <td>0</td>\n",
       "      <td>1</td>\n",
       "      <td>0</td>\n",
       "      <td>0</td>\n",
       "      <td>...</td>\n",
       "      <td>1</td>\n",
       "      <td>0</td>\n",
       "      <td>0</td>\n",
       "      <td>1</td>\n",
       "      <td>0</td>\n",
       "      <td>0</td>\n",
       "      <td>0</td>\n",
       "      <td>0</td>\n",
       "      <td>0</td>\n",
       "      <td>0</td>\n",
       "    </tr>\n",
       "    <tr>\n",
       "      <th>1</th>\n",
       "      <td>64.0</td>\n",
       "      <td>90.0</td>\n",
       "      <td>R</td>\n",
       "      <td>Upright</td>\n",
       "      <td>Upright</td>\n",
       "      <td>Comedy</td>\n",
       "      <td>0</td>\n",
       "      <td>0</td>\n",
       "      <td>1</td>\n",
       "      <td>0</td>\n",
       "      <td>...</td>\n",
       "      <td>0</td>\n",
       "      <td>0</td>\n",
       "      <td>0</td>\n",
       "      <td>0</td>\n",
       "      <td>0</td>\n",
       "      <td>0</td>\n",
       "      <td>0</td>\n",
       "      <td>0</td>\n",
       "      <td>0</td>\n",
       "      <td>0</td>\n",
       "    </tr>\n",
       "  </tbody>\n",
       "</table>\n",
       "<p>2 rows × 52 columns</p>\n",
       "</div>"
      ],
      "text/plain": [
       "   audience_rating  runtime content_rating audience_status audience_status  \\\n",
       "0             53.0    119.0             PG         Spilled         Spilled   \n",
       "1             64.0     90.0              R         Upright         Upright   \n",
       "\n",
       "                                              genres  action_critic  \\\n",
       "0  Action & Adventure, Comedy, Drama, Science Fic...              0   \n",
       "1                                             Comedy              0   \n",
       "\n",
       "   cast_critic  charact_critic  charm_critic  ...  strong_critic  take_critic  \\\n",
       "0            1               0             0  ...              1            0   \n",
       "1            0               1             0  ...              0            0   \n",
       "\n",
       "   talent_critic  though_critic  thrill_critic  thriller_critic  time_critic  \\\n",
       "0              0              1              0                0            0   \n",
       "1              0              0              0                0            0   \n",
       "\n",
       "   viewer_critic  visual_critic  work_critic  \n",
       "0              0              0            0  \n",
       "1              0              0            0  \n",
       "\n",
       "[2 rows x 52 columns]"
      ]
     },
     "execution_count": 19,
     "metadata": {},
     "output_type": "execute_result"
    }
   ],
   "source": [
    "#combining into one\n",
    "movies_info_pre_processed = movie_nona[['audience_rating', 'runtime', 'content_rating',\n",
    "                                     'audience_status', 'genres']].join(dtm)\n",
    "\n",
    "movies_info_pre_processed.head(2)"
   ]
  },
  {
   "cell_type": "code",
   "execution_count": 20,
   "id": "d1931bdc",
   "metadata": {},
   "outputs": [],
   "source": [
    "# FOrmular to convert audience_rating to range between 0-10\n",
    "\n",
    "def get_range(value):\n",
    "    if pd.isna(value):\n",
    "        return 0\n",
    "    else:\n",
    "        digit = value / 10\n",
    "        return int(digit)"
   ]
  },
  {
   "cell_type": "code",
   "execution_count": 21,
   "id": "ab77ef50",
   "metadata": {},
   "outputs": [
    {
     "data": {
      "text/plain": [
       "0        5\n",
       "1        6\n",
       "2        5\n",
       "3        9\n",
       "4        7\n",
       "        ..\n",
       "17704    8\n",
       "17705    2\n",
       "17706    3\n",
       "17708    9\n",
       "17710    9\n",
       "Name: audience_rating, Length: 8898, dtype: int64"
      ]
     },
     "execution_count": 21,
     "metadata": {},
     "output_type": "execute_result"
    }
   ],
   "source": [
    "new_rating = movies_info_pre_processed['audience_rating'].apply(get_range)\n",
    "new_rating"
   ]
  },
  {
   "cell_type": "code",
   "execution_count": 22,
   "id": "50d0dd0a",
   "metadata": {},
   "outputs": [
    {
     "data": {
      "text/html": [
       "<div>\n",
       "<style scoped>\n",
       "    .dataframe tbody tr th:only-of-type {\n",
       "        vertical-align: middle;\n",
       "    }\n",
       "\n",
       "    .dataframe tbody tr th {\n",
       "        vertical-align: top;\n",
       "    }\n",
       "\n",
       "    .dataframe thead th {\n",
       "        text-align: right;\n",
       "    }\n",
       "</style>\n",
       "<table border=\"1\" class=\"dataframe\">\n",
       "  <thead>\n",
       "    <tr style=\"text-align: right;\">\n",
       "      <th></th>\n",
       "      <th>audience_rating</th>\n",
       "      <th>runtime</th>\n",
       "      <th>content_rating</th>\n",
       "      <th>audience_status</th>\n",
       "      <th>audience_status</th>\n",
       "      <th>genres</th>\n",
       "      <th>action_critic</th>\n",
       "      <th>cast_critic</th>\n",
       "      <th>charact_critic</th>\n",
       "      <th>charm_critic</th>\n",
       "      <th>...</th>\n",
       "      <th>strong_critic</th>\n",
       "      <th>take_critic</th>\n",
       "      <th>talent_critic</th>\n",
       "      <th>though_critic</th>\n",
       "      <th>thrill_critic</th>\n",
       "      <th>thriller_critic</th>\n",
       "      <th>time_critic</th>\n",
       "      <th>viewer_critic</th>\n",
       "      <th>visual_critic</th>\n",
       "      <th>work_critic</th>\n",
       "    </tr>\n",
       "  </thead>\n",
       "  <tbody>\n",
       "    <tr>\n",
       "      <th>0</th>\n",
       "      <td>5</td>\n",
       "      <td>119.0</td>\n",
       "      <td>PG</td>\n",
       "      <td>Spilled</td>\n",
       "      <td>Spilled</td>\n",
       "      <td>Action &amp; Adventure, Comedy, Drama, Science Fic...</td>\n",
       "      <td>0</td>\n",
       "      <td>1</td>\n",
       "      <td>0</td>\n",
       "      <td>0</td>\n",
       "      <td>...</td>\n",
       "      <td>1</td>\n",
       "      <td>0</td>\n",
       "      <td>0</td>\n",
       "      <td>1</td>\n",
       "      <td>0</td>\n",
       "      <td>0</td>\n",
       "      <td>0</td>\n",
       "      <td>0</td>\n",
       "      <td>0</td>\n",
       "      <td>0</td>\n",
       "    </tr>\n",
       "    <tr>\n",
       "      <th>1</th>\n",
       "      <td>6</td>\n",
       "      <td>90.0</td>\n",
       "      <td>R</td>\n",
       "      <td>Upright</td>\n",
       "      <td>Upright</td>\n",
       "      <td>Comedy</td>\n",
       "      <td>0</td>\n",
       "      <td>0</td>\n",
       "      <td>1</td>\n",
       "      <td>0</td>\n",
       "      <td>...</td>\n",
       "      <td>0</td>\n",
       "      <td>0</td>\n",
       "      <td>0</td>\n",
       "      <td>0</td>\n",
       "      <td>0</td>\n",
       "      <td>0</td>\n",
       "      <td>0</td>\n",
       "      <td>0</td>\n",
       "      <td>0</td>\n",
       "      <td>0</td>\n",
       "    </tr>\n",
       "  </tbody>\n",
       "</table>\n",
       "<p>2 rows × 52 columns</p>\n",
       "</div>"
      ],
      "text/plain": [
       "   audience_rating  runtime content_rating audience_status audience_status  \\\n",
       "0                5    119.0             PG         Spilled         Spilled   \n",
       "1                6     90.0              R         Upright         Upright   \n",
       "\n",
       "                                              genres  action_critic  \\\n",
       "0  Action & Adventure, Comedy, Drama, Science Fic...              0   \n",
       "1                                             Comedy              0   \n",
       "\n",
       "   cast_critic  charact_critic  charm_critic  ...  strong_critic  take_critic  \\\n",
       "0            1               0             0  ...              1            0   \n",
       "1            0               1             0  ...              0            0   \n",
       "\n",
       "   talent_critic  though_critic  thrill_critic  thriller_critic  time_critic  \\\n",
       "0              0              1              0                0            0   \n",
       "1              0              0              0                0            0   \n",
       "\n",
       "   viewer_critic  visual_critic  work_critic  \n",
       "0              0              0            0  \n",
       "1              0              0            0  \n",
       "\n",
       "[2 rows x 52 columns]"
      ]
     },
     "execution_count": 22,
     "metadata": {},
     "output_type": "execute_result"
    }
   ],
   "source": [
    "movies_info_pre_processed['audience_rating'] = new_rating\n",
    "movies_info_pre_processed.head(2)"
   ]
  },
  {
   "cell_type": "code",
   "execution_count": 23,
   "id": "a17fc7de",
   "metadata": {},
   "outputs": [
    {
     "data": {
      "text/html": [
       "<div>\n",
       "<style scoped>\n",
       "    .dataframe tbody tr th:only-of-type {\n",
       "        vertical-align: middle;\n",
       "    }\n",
       "\n",
       "    .dataframe tbody tr th {\n",
       "        vertical-align: top;\n",
       "    }\n",
       "\n",
       "    .dataframe thead th {\n",
       "        text-align: right;\n",
       "    }\n",
       "</style>\n",
       "<table border=\"1\" class=\"dataframe\">\n",
       "  <thead>\n",
       "    <tr style=\"text-align: right;\">\n",
       "      <th></th>\n",
       "      <th>audience_rating</th>\n",
       "      <th>runtime</th>\n",
       "      <th>action_critic</th>\n",
       "      <th>cast_critic</th>\n",
       "      <th>charact_critic</th>\n",
       "      <th>charm_critic</th>\n",
       "      <th>classic_critic</th>\n",
       "      <th>comedi_critic</th>\n",
       "      <th>direct_critic</th>\n",
       "      <th>director_critic</th>\n",
       "      <th>...</th>\n",
       "      <th>genres_Mystery &amp; Suspense, Special Interest</th>\n",
       "      <th>genres_Mystery &amp; Suspense, Television</th>\n",
       "      <th>genres_Mystery &amp; Suspense, Western</th>\n",
       "      <th>genres_Romance</th>\n",
       "      <th>genres_Science Fiction &amp; Fantasy</th>\n",
       "      <th>genres_Science Fiction &amp; Fantasy, Romance</th>\n",
       "      <th>genres_Science Fiction &amp; Fantasy, Special Interest</th>\n",
       "      <th>genres_Science Fiction &amp; Fantasy, Western</th>\n",
       "      <th>genres_Television</th>\n",
       "      <th>genres_Western</th>\n",
       "    </tr>\n",
       "  </thead>\n",
       "  <tbody>\n",
       "    <tr>\n",
       "      <th>0</th>\n",
       "      <td>5</td>\n",
       "      <td>119.0</td>\n",
       "      <td>0</td>\n",
       "      <td>1</td>\n",
       "      <td>0</td>\n",
       "      <td>0</td>\n",
       "      <td>0</td>\n",
       "      <td>0</td>\n",
       "      <td>0</td>\n",
       "      <td>0</td>\n",
       "      <td>...</td>\n",
       "      <td>0</td>\n",
       "      <td>0</td>\n",
       "      <td>0</td>\n",
       "      <td>0</td>\n",
       "      <td>0</td>\n",
       "      <td>0</td>\n",
       "      <td>0</td>\n",
       "      <td>0</td>\n",
       "      <td>0</td>\n",
       "      <td>0</td>\n",
       "    </tr>\n",
       "    <tr>\n",
       "      <th>1</th>\n",
       "      <td>6</td>\n",
       "      <td>90.0</td>\n",
       "      <td>0</td>\n",
       "      <td>0</td>\n",
       "      <td>1</td>\n",
       "      <td>0</td>\n",
       "      <td>0</td>\n",
       "      <td>0</td>\n",
       "      <td>0</td>\n",
       "      <td>0</td>\n",
       "      <td>...</td>\n",
       "      <td>0</td>\n",
       "      <td>0</td>\n",
       "      <td>0</td>\n",
       "      <td>0</td>\n",
       "      <td>0</td>\n",
       "      <td>0</td>\n",
       "      <td>0</td>\n",
       "      <td>0</td>\n",
       "      <td>0</td>\n",
       "      <td>0</td>\n",
       "    </tr>\n",
       "  </tbody>\n",
       "</table>\n",
       "<p>2 rows × 743 columns</p>\n",
       "</div>"
      ],
      "text/plain": [
       "   audience_rating  runtime  action_critic  cast_critic  charact_critic  \\\n",
       "0                5    119.0              0            1               0   \n",
       "1                6     90.0              0            0               1   \n",
       "\n",
       "   charm_critic  classic_critic  comedi_critic  direct_critic  \\\n",
       "0             0               0              0              0   \n",
       "1             0               0              0              0   \n",
       "\n",
       "   director_critic  ...  genres_Mystery & Suspense, Special Interest  \\\n",
       "0                0  ...                                            0   \n",
       "1                0  ...                                            0   \n",
       "\n",
       "   genres_Mystery & Suspense, Television  genres_Mystery & Suspense, Western  \\\n",
       "0                                      0                                   0   \n",
       "1                                      0                                   0   \n",
       "\n",
       "   genres_Romance  genres_Science Fiction & Fantasy  \\\n",
       "0               0                                 0   \n",
       "1               0                                 0   \n",
       "\n",
       "   genres_Science Fiction & Fantasy, Romance  \\\n",
       "0                                          0   \n",
       "1                                          0   \n",
       "\n",
       "   genres_Science Fiction & Fantasy, Special Interest  \\\n",
       "0                                                  0    \n",
       "1                                                  0    \n",
       "\n",
       "   genres_Science Fiction & Fantasy, Western  genres_Television  \\\n",
       "0                                          0                  0   \n",
       "1                                          0                  0   \n",
       "\n",
       "   genres_Western  \n",
       "0               0  \n",
       "1               0  \n",
       "\n",
       "[2 rows x 743 columns]"
      ]
     },
     "execution_count": 23,
     "metadata": {},
     "output_type": "execute_result"
    }
   ],
   "source": [
    "# Changing categorical varieables in columns to numerical data\n",
    "movies_info_processed = pd.get_dummies(movies_info_pre_processed, columns=['content_rating', 'audience_status', 'genres'])\n",
    "movies_info_processed.head(2)\n"
   ]
  },
  {
   "cell_type": "code",
   "execution_count": 24,
   "id": "1d481f50",
   "metadata": {},
   "outputs": [
    {
     "name": "stderr",
     "output_type": "stream",
     "text": [
      "/Users/adedeji/opt/anaconda3/lib/python3.9/site-packages/seaborn/_decorators.py:36: FutureWarning: Pass the following variable as a keyword arg: x. From version 0.12, the only valid positional argument will be `data`, and passing other arguments without an explicit keyword will result in an error or misinterpretation.\n",
      "  warnings.warn(\n"
     ]
    },
    {
     "name": "stdout",
     "output_type": "stream",
     "text": [
      "8     1648\n",
      "7     1632\n",
      "6     1409\n",
      "5     1234\n",
      "4     1108\n",
      "3      784\n",
      "9      592\n",
      "2      367\n",
      "1      112\n",
      "10       8\n",
      "0        4\n",
      "Name: audience_rating, dtype: int64\n"
     ]
    },
    {
     "data": {
      "image/png": "[encoded data removed]",
      "text/plain": [
       "<Figure size 432x288 with 1 Axes>"
      ]
     },
     "metadata": {
      "needs_background": "light"
     },
     "output_type": "display_data"
    }
   ],
   "source": [
    "\n",
    "#Checking if our classed are evenly distributed\n",
    "sns.countplot(movies_info_processed['audience_rating'], order=movies_info_processed['audience_rating'].value_counts().index);\n",
    "print(movies_info_processed['audience_rating'].value_counts())"
   ]
  },
  {
   "cell_type": "markdown",
   "id": "07f25511",
   "metadata": {},
   "source": [
    "## 1.2 Decision Tree Regression"
   ]
  },
  {
   "cell_type": "code",
   "execution_count": 25,
   "id": "4fed58ed",
   "metadata": {},
   "outputs": [],
   "source": [
    "y = movies_info_processed['audience_rating']\n",
    "x = movies_info_processed.drop(['audience_rating'], axis=1)"
   ]
  },
  {
   "cell_type": "code",
   "execution_count": 26,
   "id": "77396ff8",
   "metadata": {},
   "outputs": [
    {
     "data": {
      "text/plain": [
       "0"
      ]
     },
     "execution_count": 26,
     "metadata": {},
     "output_type": "execute_result"
    }
   ],
   "source": [
    "y.isna().sum()"
   ]
  },
  {
   "cell_type": "code",
   "execution_count": 27,
   "id": "61336e7a",
   "metadata": {},
   "outputs": [
    {
     "data": {
      "text/plain": [
       "runtime                                               0\n",
       "action_critic                                         0\n",
       "cast_critic                                           0\n",
       "charact_critic                                        0\n",
       "charm_critic                                          0\n",
       "                                                     ..\n",
       "genres_Science Fiction & Fantasy, Romance             0\n",
       "genres_Science Fiction & Fantasy, Special Interest    0\n",
       "genres_Science Fiction & Fantasy, Western             0\n",
       "genres_Television                                     0\n",
       "genres_Western                                        0\n",
       "Length: 742, dtype: int64"
      ]
     },
     "execution_count": 27,
     "metadata": {},
     "output_type": "execute_result"
    }
   ],
   "source": [
    "x.isna().sum()"
   ]
  },
  {
   "cell_type": "code",
   "execution_count": 28,
   "id": "43ba9b0a",
   "metadata": {},
   "outputs": [
    {
     "data": {
      "text/plain": [
       "((6228, 742), (2670, 742))"
      ]
     },
     "execution_count": 28,
     "metadata": {},
     "output_type": "execute_result"
    }
   ],
   "source": [
    "from sklearn.model_selection import train_test_split\n",
    "\n",
    "y = y.astype('int32')\n",
    "\n",
    "x_train, x_test, y_train, y_test = train_test_split(x, y, test_size=0.3, stratify=y, random_state=88)\n",
    "x_train.shape, x_test.shape"
   ]
  },
  {
   "cell_type": "code",
   "execution_count": 29,
   "id": "42126084",
   "metadata": {},
   "outputs": [],
   "source": [
    "from sklearn.model_selection import GridSearchCV\n",
    "from sklearn.tree import DecisionTreeRegressor\n",
    "\n",
    "grid_values = {'ccp_alpha': np.linspace(0, 0.008, 100),\n",
    "              'min_samples_leaf': [5],\n",
    "               'min_samples_split': [20],\n",
    "               'max_depth': [30],\n",
    "               'random_state': [88]}\n",
    "\n",
    "dtc = DecisionTreeRegressor(random_state=88)\n",
    "dtc_cv = GridSearchCV(dtc, param_grid=grid_values,  cv=2).fit(x_train, y_train)"
   ]
  },
  {
   "cell_type": "code",
   "execution_count": null,
   "id": "2b03a1d6",
   "metadata": {},
   "outputs": [],
   "source": []
  },
  {
   "cell_type": "code",
   "execution_count": 30,
   "id": "fc18bfca",
   "metadata": {},
   "outputs": [
    {
     "data": {
      "image/png": "[encoded data removed]",
      "text/plain": [
       "<Figure size 576x432 with 1 Axes>"
      ]
     },
     "metadata": {
      "needs_background": "light"
     },
     "output_type": "display_data"
    },
    {
     "name": "stdout",
     "output_type": "stream",
     "text": [
      "Best ccp_alpha {'ccp_alpha': 0.003393939393939394, 'max_depth': 30, 'min_samples_leaf': 5, 'min_samples_split': 20, 'random_state': 88}\n"
     ]
    }
   ],
   "source": [
    "import matplotlib.pyplot as plt\n",
    "\n",
    "ccp_alpha = dtc_cv.cv_results_['param_ccp_alpha'].data\n",
    "ACC_scores = dtc_cv.cv_results_['mean_test_score']\n",
    "\n",
    "plt.figure(figsize=(8, 6))\n",
    "plt.xlabel('ccp_alpha', fontsize=16)\n",
    "plt.ylabel('CV Accuracy', fontsize=16)\n",
    "plt.scatter(ccp_alpha, ACC_scores, s=3)\n",
    "plt.plot(ccp_alpha, ACC_scores, linewidth=3)\n",
    "plt.grid(True, which='both')\n",
    "\n",
    "plt.tight_layout()\n",
    "plt.show()\n",
    "\n",
    "print('Best ccp_alpha', dtc_cv.best_params_)"
   ]
  },
  {
   "cell_type": "code",
   "execution_count": 31,
   "id": "658e3518",
   "metadata": {},
   "outputs": [
    {
     "data": {
      "image/png": "[encoded data removed]",
      "text/plain": [
       "<Figure size 2160x1080 with 1 Axes>"
      ]
     },
     "metadata": {
      "needs_background": "light"
     },
     "output_type": "display_data"
    }
   ],
   "source": [
    "from sklearn.tree import plot_tree\n",
    "plt.figure(figsize=(30,15))\n",
    "plot_tree(dtc_cv.best_estimator_, \n",
    "          feature_names=x_train.columns, \n",
    "          class_names=['0','1'], \n",
    "          filled=True,\n",
    "          impurity=False,\n",
    "          rounded=True,\n",
    "          fontsize=12,\n",
    "          max_depth = 5,\n",
    "          label='root')\n",
    "plt.show()"
   ]
  },
  {
   "cell_type": "code",
   "execution_count": 32,
   "id": "613b5e17",
   "metadata": {},
   "outputs": [
    {
     "name": "stdout",
     "output_type": "stream",
     "text": [
      "CV R2: 0.73233\n",
      "OSR2: 0.73475\n"
     ]
    }
   ],
   "source": [
    "from sklearn.metrics import r2_score\n",
    "\n",
    "print('CV R2:', round(dtc_cv.best_score_, 5))\n",
    "print('OSR2:', round(r2_score(y_test, dtc_cv.predict(x_test)), 5))"
   ]
  },
  {
   "cell_type": "code",
   "execution_count": null,
   "id": "1f16e242",
   "metadata": {},
   "outputs": [],
   "source": []
  },
  {
   "cell_type": "markdown",
   "id": "804f6e44",
   "metadata": {},
   "source": [
    "## 1.3 Random Forest"
   ]
  },
  {
   "cell_type": "code",
   "execution_count": 33,
   "id": "201ad911",
   "metadata": {},
   "outputs": [],
   "source": [
    "from sklearn.ensemble import RandomForestRegressor"
   ]
  },
  {
   "cell_type": "code",
   "execution_count": 35,
   "id": "7c1404d4",
   "metadata": {},
   "outputs": [
    {
     "name": "stdout",
     "output_type": "stream",
     "text": [
      "time: 760.41 s\n"
     ]
    }
   ],
   "source": [
    "### Random Forest Regressor with CV\n",
    "import time\n",
    "\n",
    "grid_values = {'max_features': np.linspace(1,120,120, dtype='int32'),\n",
    "               'min_samples_leaf': [5],\n",
    "               'n_estimators': [100],\n",
    "               'random_state': [88]} \n",
    "\n",
    "tic = time.time()\n",
    "\n",
    "rf = RandomForestRegressor() \n",
    "rf_cv = GridSearchCV(rf, param_grid=grid_values, cv=5)\n",
    "rf_cv.fit(x_train, y_train)\n",
    "\n",
    "toc = time.time()\n",
    "\n",
    "print('time:', round(toc-tic, 2),'s')"
   ]
  },
  {
   "cell_type": "code",
   "execution_count": 36,
   "id": "02d77f40",
   "metadata": {},
   "outputs": [
    {
     "data": {
      "image/png": "[encoded data removed]",
      "text/plain": [
       "<Figure size 576x432 with 1 Axes>"
      ]
     },
     "metadata": {
      "needs_background": "light"
     },
     "output_type": "display_data"
    },
    {
     "name": "stdout",
     "output_type": "stream",
     "text": [
      "Best parameters {'max_features': 62, 'min_samples_leaf': 5, 'n_estimators': 100, 'random_state': 88}\n"
     ]
    }
   ],
   "source": [
    "max_features = rf_cv.cv_results_['param_max_features'].data\n",
    "ACC_scores = rf_cv.cv_results_['mean_test_score']\n",
    "\n",
    "plt.figure(figsize=(8, 6))\n",
    "plt.xlabel('max_features', fontsize=16)\n",
    "plt.ylabel('CV Accuracy', fontsize=16)\n",
    "plt.scatter(max_features, ACC_scores, s=3)\n",
    "plt.plot(max_features, ACC_scores, linewidth=3)\n",
    "plt.grid(True, which='both')\n",
    "\n",
    "plt.tight_layout()\n",
    "plt.show()\n",
    "\n",
    "print('Best parameters', rf_cv.best_params_)"
   ]
  },
  {
   "cell_type": "code",
   "execution_count": 37,
   "id": "b7d3f529",
   "metadata": {},
   "outputs": [
    {
     "data": {
      "text/plain": [
       "2670"
      ]
     },
     "execution_count": 37,
     "metadata": {},
     "output_type": "execute_result"
    }
   ],
   "source": [
    "x_test['runtime'].size"
   ]
  },
  {
   "cell_type": "code",
   "execution_count": 38,
   "id": "2497e728",
   "metadata": {},
   "outputs": [
    {
     "data": {
      "text/html": [
       "<div>\n",
       "<style scoped>\n",
       "    .dataframe tbody tr th:only-of-type {\n",
       "        vertical-align: middle;\n",
       "    }\n",
       "\n",
       "    .dataframe tbody tr th {\n",
       "        vertical-align: top;\n",
       "    }\n",
       "\n",
       "    .dataframe thead th {\n",
       "        text-align: right;\n",
       "    }\n",
       "</style>\n",
       "<table border=\"1\" class=\"dataframe\">\n",
       "  <thead>\n",
       "    <tr style=\"text-align: right;\">\n",
       "      <th></th>\n",
       "      <th>Feature</th>\n",
       "      <th>Importance score</th>\n",
       "    </tr>\n",
       "  </thead>\n",
       "  <tbody>\n",
       "    <tr>\n",
       "      <th>0</th>\n",
       "      <td>runtime</td>\n",
       "      <td>2.4</td>\n",
       "    </tr>\n",
       "    <tr>\n",
       "      <th>1</th>\n",
       "      <td>action_critic</td>\n",
       "      <td>0.0</td>\n",
       "    </tr>\n",
       "    <tr>\n",
       "      <th>2</th>\n",
       "      <td>cast_critic</td>\n",
       "      <td>0.1</td>\n",
       "    </tr>\n",
       "    <tr>\n",
       "      <th>3</th>\n",
       "      <td>charact_critic</td>\n",
       "      <td>0.0</td>\n",
       "    </tr>\n",
       "    <tr>\n",
       "      <th>4</th>\n",
       "      <td>charm_critic</td>\n",
       "      <td>0.1</td>\n",
       "    </tr>\n",
       "    <tr>\n",
       "      <th>...</th>\n",
       "      <td>...</td>\n",
       "      <td>...</td>\n",
       "    </tr>\n",
       "    <tr>\n",
       "      <th>737</th>\n",
       "      <td>genres_Science Fiction &amp; Fantasy, Romance</td>\n",
       "      <td>0.0</td>\n",
       "    </tr>\n",
       "    <tr>\n",
       "      <th>738</th>\n",
       "      <td>genres_Science Fiction &amp; Fantasy, Special Inte...</td>\n",
       "      <td>0.0</td>\n",
       "    </tr>\n",
       "    <tr>\n",
       "      <th>739</th>\n",
       "      <td>genres_Science Fiction &amp; Fantasy, Western</td>\n",
       "      <td>0.0</td>\n",
       "    </tr>\n",
       "    <tr>\n",
       "      <th>740</th>\n",
       "      <td>genres_Television</td>\n",
       "      <td>0.0</td>\n",
       "    </tr>\n",
       "    <tr>\n",
       "      <th>741</th>\n",
       "      <td>genres_Western</td>\n",
       "      <td>0.0</td>\n",
       "    </tr>\n",
       "  </tbody>\n",
       "</table>\n",
       "<p>742 rows × 2 columns</p>\n",
       "</div>"
      ],
      "text/plain": [
       "                                               Feature  Importance score\n",
       "0                                              runtime               2.4\n",
       "1                                        action_critic               0.0\n",
       "2                                          cast_critic               0.1\n",
       "3                                       charact_critic               0.0\n",
       "4                                         charm_critic               0.1\n",
       "..                                                 ...               ...\n",
       "737          genres_Science Fiction & Fantasy, Romance               0.0\n",
       "738  genres_Science Fiction & Fantasy, Special Inte...               0.0\n",
       "739          genres_Science Fiction & Fantasy, Western               0.0\n",
       "740                                  genres_Television               0.0\n",
       "741                                     genres_Western               0.0\n",
       "\n",
       "[742 rows x 2 columns]"
      ]
     },
     "execution_count": 38,
     "metadata": {},
     "output_type": "execute_result"
    }
   ],
   "source": [
    "pd.DataFrame({'Feature' :x_train.columns, \n",
    "              'Importance score': 100*rf_cv.best_estimator_.feature_importances_}).round(1)"
   ]
  },
  {
   "cell_type": "code",
   "execution_count": 39,
   "id": "6d44a7ed",
   "metadata": {},
   "outputs": [
    {
     "name": "stdout",
     "output_type": "stream",
     "text": [
      "CV R2: 0.74529\n",
      "OSR2: 0.75124\n"
     ]
    }
   ],
   "source": [
    "from sklearn.metrics import r2_score\n",
    "\n",
    "print('CV R2:', round(rf_cv.best_score_, 5))\n",
    "print('OSR2:', round(r2_score(y_test, rf_cv.predict(x_test)), 5))"
   ]
  },
  {
   "cell_type": "code",
   "execution_count": null,
   "id": "87dc2260",
   "metadata": {},
   "outputs": [],
   "source": []
  },
  {
   "cell_type": "markdown",
   "id": "7b75fa0f",
   "metadata": {},
   "source": [
    "## 1.4 XGBost for Regression"
   ]
  },
  {
   "cell_type": "code",
   "execution_count": 40,
   "id": "d6e2d93b",
   "metadata": {},
   "outputs": [],
   "source": [
    "import xgboost as xg\n",
    "from sklearn.metrics import mean_squared_error as MSE"
   ]
  },
  {
   "cell_type": "code",
   "execution_count": 41,
   "id": "3241ea9f",
   "metadata": {},
   "outputs": [],
   "source": [
    "#This is to deal with the error assocoated with uniquness of our features(duplicate columns)\n",
    "X_train = x_train.loc[:,~x_train.columns.duplicated()].copy()\n",
    "X_test = x_test.loc[:,~x_test.columns.duplicated()].copy()"
   ]
  },
  {
   "cell_type": "code",
   "execution_count": 42,
   "id": "d603180d",
   "metadata": {},
   "outputs": [
    {
     "name": "stdout",
     "output_type": "stream",
     "text": [
      "[23:26:48] WARNING: /Users/runner/work/xgboost/xgboost/python-package/build/temp.macosx-10.9-x86_64-cpython-38/xgboost/src/learner.cc:767: \n",
      "Parameters: { \"silent\" } are not used.\n",
      "\n"
     ]
    },
    {
     "data": {
      "text/plain": [
       "GridSearchCV(cv=2,\n",
       "             estimator=XGBRegressor(base_score=None, booster=None,\n",
       "                                    callbacks=None, colsample_bylevel=None,\n",
       "                                    colsample_bynode=None,\n",
       "                                    colsample_bytree=None,\n",
       "                                    early_stopping_rounds=None,\n",
       "                                    enable_categorical=False, eval_metric=None,\n",
       "                                    feature_types=None, gamma=None, gpu_id=None,\n",
       "                                    grow_policy=None, importance_type=None,\n",
       "                                    interaction_constraints=None,\n",
       "                                    learning_rate=None, m...\n",
       "                                    monotone_constraints=None, n_estimators=100,\n",
       "                                    n_jobs=None, num_parallel_tree=None,\n",
       "                                    predictor=None, random_state=None, ...),\n",
       "             n_jobs=5,\n",
       "             param_grid={'colsample_bytree': [0.7],\n",
       "                         'learning_rate': [0.03, 0.05, 0.07],\n",
       "                         'max_depth': [5, 6, 7], 'min_child_weight': [4],\n",
       "                         'n_estimators': [500], 'nthread': [4],\n",
       "                         'objective': ['reg:squarederror'], 'silent': [1],\n",
       "                         'subsample': [0.7]},\n",
       "             verbose=False)"
      ]
     },
     "execution_count": 42,
     "metadata": {},
     "output_type": "execute_result"
    }
   ],
   "source": [
    "# Various hyper-parameters to tune\n",
    "xgb1 = xg.XGBRegressor()\n",
    "parameters = {'nthread':[4], #when use hyperthread, xgboost may become slower\n",
    "              'objective':['reg:squarederror'],\n",
    "              'learning_rate': [.03, 0.05, .07], #so called `eta` value\n",
    "              'max_depth': [5, 6, 7],\n",
    "              'min_child_weight': [4],\n",
    "              'silent': [1],\n",
    "              'subsample': [0.7],\n",
    "              'colsample_bytree': [0.7],\n",
    "              'n_estimators': [500]}\n",
    "\n",
    "xgb_grid = GridSearchCV(xgb1,\n",
    "                        parameters,\n",
    "                        cv = 2,\n",
    "                        n_jobs = 5,\n",
    "                        verbose=False)\n",
    "\n",
    "xgb_grid.fit(X_train,\n",
    "         y_train)\n",
    "\n"
   ]
  },
  {
   "cell_type": "code",
   "execution_count": 43,
   "id": "e9d20e9d",
   "metadata": {},
   "outputs": [
    {
     "name": "stdout",
     "output_type": "stream",
     "text": [
      "CV R2: 0.7427905573929963 5\n",
      "OSR2: 0.75172\n",
      "Best parameters {'colsample_bytree': 0.7, 'learning_rate': 0.03, 'max_depth': 5, 'min_child_weight': 4, 'n_estimators': 500, 'nthread': 4, 'objective': 'reg:squarederror', 'silent': 1, 'subsample': 0.7}\n"
     ]
    }
   ],
   "source": [
    "print('CV R2:', xgb_grid.best_score_, 5)\n",
    "XG_OSR2 = r2_score(y_test, xgb_grid.predict(X_test))\n",
    "print('OSR2:', round(XG_OSR2, 5))\n",
    "print('Best parameters', xgb_grid.best_params_)"
   ]
  },
  {
   "cell_type": "markdown",
   "id": "ca2bc20a",
   "metadata": {},
   "source": [
    "## 1.5  Bootstrap Validation with Confidence Interval Plot \n",
    "\n",
    "**Since oure best model is XGBoost with OSR2 of 0.75172, we will like to know with certainty how it will perform on future data**"
   ]
  },
  {
   "cell_type": "code",
   "execution_count": 44,
   "id": "5d2ac79e",
   "metadata": {},
   "outputs": [],
   "source": [
    "# manual implementation of bootstrap for model valiation.\n",
    "def bootstrap_validation(test_data, test_label, train_label, model, metrics_list, sample=500, random_state=66):\n",
    "    n_sample = sample\n",
    "    n_metrics = len(metrics_list)\n",
    "    output_array=np.zeros([n_sample, n_metrics])\n",
    "    output_array[:]=np.nan\n",
    "    print(output_array.shape)\n",
    "    for bs_iter in range(n_sample):\n",
    "        bs_index = np.random.choice(test_data.index, len(test_data.index), replace=True)\n",
    "        bs_data = test_data.loc[bs_index]\n",
    "        bs_label = test_label.loc[bs_index]\n",
    "        bs_predicted = model.predict(bs_data)\n",
    "        for metrics_iter in range(n_metrics):\n",
    "            metrics = metrics_list[metrics_iter]\n",
    "            output_array[bs_iter, metrics_iter]=metrics(bs_label, bs_predicted)                                                                                                                                                                                                                                                                                                         \n",
    "    output_df = pd.DataFrame(output_array)\n",
    "    return output_df"
   ]
  },
  {
   "cell_type": "code",
   "execution_count": 45,
   "id": "2c5167b7",
   "metadata": {},
   "outputs": [
    {
     "name": "stdout",
     "output_type": "stream",
     "text": [
      "(5000, 1)\n",
      "[23:18:16] WARNING: /Users/runner/work/xgboost/xgboost/python-package/build/temp.macosx-10.9-x86_64-cpython-38/xgboost/src/learner.cc:767: \n",
      "Parameters: { \"silent\" } are not used.\n",
      "\n",
      "[23:20:37] WARNING: /Users/runner/work/xgboost/xgboost/python-package/build/temp.macosx-10.9-x86_64-cpython-38/xgboost/src/learner.cc:767: \n",
      "Parameters: { \"silent\" } are not used.\n",
      "\n",
      "[23:22:34] WARNING: /Users/runner/work/xgboost/xgboost/python-package/build/temp.macosx-10.9-x86_64-cpython-38/xgboost/src/learner.cc:767: \n",
      "Parameters: { \"silent\" } are not used.\n",
      "\n",
      "[23:18:16] WARNING: /Users/runner/work/xgboost/xgboost/python-package/build/temp.macosx-10.9-x86_64-cpython-38/xgboost/src/learner.cc:767: \n",
      "Parameters: { \"silent\" } are not used.\n",
      "\n",
      "[23:21:00] WARNING: /Users/runner/work/xgboost/xgboost/python-package/build/temp.macosx-10.9-x86_64-cpython-38/xgboost/src/learner.cc:767: \n",
      "Parameters: { \"silent\" } are not used.\n",
      "\n",
      "[23:23:20] WARNING: /Users/runner/work/xgboost/xgboost/python-package/build/temp.macosx-10.9-x86_64-cpython-38/xgboost/src/learner.cc:767: \n",
      "Parameters: { \"silent\" } are not used.\n",
      "\n",
      "[23:18:16] WARNING: /Users/runner/work/xgboost/xgboost/python-package/build/temp.macosx-10.9-x86_64-cpython-38/xgboost/src/learner.cc:767: \n",
      "Parameters: { \"silent\" } are not used.\n",
      "\n",
      "[23:20:37] WARNING: /Users/runner/work/xgboost/xgboost/python-package/build/temp.macosx-10.9-x86_64-cpython-38/xgboost/src/learner.cc:767: \n",
      "Parameters: { \"silent\" } are not used.\n",
      "\n",
      "[23:22:57] WARNING: /Users/runner/work/xgboost/xgboost/python-package/build/temp.macosx-10.9-x86_64-cpython-38/xgboost/src/learner.cc:767: \n",
      "Parameters: { \"silent\" } are not used.\n",
      "\n",
      "[23:24:54] WARNING: /Users/runner/work/xgboost/xgboost/python-package/build/temp.macosx-10.9-x86_64-cpython-38/xgboost/src/learner.cc:767: \n",
      "Parameters: { \"silent\" } are not used.\n",
      "\n",
      "[23:18:16] WARNING: /Users/runner/work/xgboost/xgboost/python-package/build/temp.macosx-10.9-x86_64-cpython-38/xgboost/src/learner.cc:767: \n",
      "Parameters: { \"silent\" } are not used.\n",
      "\n",
      "[23:20:15] WARNING: /Users/runner/work/xgboost/xgboost/python-package/build/temp.macosx-10.9-x86_64-cpython-38/xgboost/src/learner.cc:767: \n",
      "Parameters: { \"silent\" } are not used.\n",
      "\n",
      "[23:22:57] WARNING: /Users/runner/work/xgboost/xgboost/python-package/build/temp.macosx-10.9-x86_64-cpython-38/xgboost/src/learner.cc:767: \n",
      "Parameters: { \"silent\" } are not used.\n",
      "\n",
      "[23:24:55] WARNING: /Users/runner/work/xgboost/xgboost/python-package/build/temp.macosx-10.9-x86_64-cpython-38/xgboost/src/learner.cc:767: \n",
      "Parameters: { \"silent\" } are not used.\n",
      "\n",
      "[23:18:16] WARNING: /Users/runner/work/xgboost/xgboost/python-package/build/temp.macosx-10.9-x86_64-cpython-38/xgboost/src/learner.cc:767: \n",
      "Parameters: { \"silent\" } are not used.\n",
      "\n",
      "[23:20:15] WARNING: /Users/runner/work/xgboost/xgboost/python-package/build/temp.macosx-10.9-x86_64-cpython-38/xgboost/src/learner.cc:767: \n",
      "Parameters: { \"silent\" } are not used.\n",
      "\n",
      "[23:22:12] WARNING: /Users/runner/work/xgboost/xgboost/python-package/build/temp.macosx-10.9-x86_64-cpython-38/xgboost/src/learner.cc:767: \n",
      "Parameters: { \"silent\" } are not used.\n",
      "\n",
      "[23:24:56] WARNING: /Users/runner/work/xgboost/xgboost/python-package/build/temp.macosx-10.9-x86_64-cpython-38/xgboost/src/learner.cc:767: \n",
      "Parameters: { \"silent\" } are not used.\n",
      "\n"
     ]
    }
   ],
   "source": [
    "bs_output = bootstrap_validation(X_test,y_test,y_train,xgb_grid,\n",
    "                                 metrics_list=[r2_score],\n",
    "                                 sample = 5000)"
   ]
  },
  {
   "cell_type": "markdown",
   "id": "3a1536df",
   "metadata": {},
   "source": [
    "#### 2.3.1 Basic plot and centered plot"
   ]
  },
  {
   "cell_type": "code",
   "execution_count": 46,
   "id": "30223165",
   "metadata": {},
   "outputs": [
    {
     "data": {
      "text/plain": [
       "(array([  1.,   0.,   5.,   7.,  26.,  96., 195., 328., 548., 743., 793.,\n",
       "        810., 666., 423., 223.,  95.,  30.,  10.,   0.,   1.]),\n",
       " array([-0.02541116, -0.02301906, -0.02062697, -0.01823487, -0.01584277,\n",
       "        -0.01345068, -0.01105858, -0.00866648, -0.00627439, -0.00388229,\n",
       "        -0.0014902 ,  0.0009019 ,  0.003294  ,  0.00568609,  0.00807819,\n",
       "         0.01047029,  0.01286238,  0.01525448,  0.01764658,  0.02003867,\n",
       "         0.02243077]),\n",
       " <BarContainer object of 20 artists>)"
      ]
     },
     "execution_count": 46,
     "metadata": {},
     "output_type": "execute_result"
    },
    {
     "data": {
      "image/png": "[encoded data removed]",
      "text/plain": [
       "<Figure size 864x360 with 2 Axes>"
      ]
     },
     "metadata": {
      "needs_background": "light"
     },
     "output_type": "display_data"
    }
   ],
   "source": [
    "fig, axs = plt.subplots(ncols=2, figsize=(12,5))\n",
    "axs[0].set_xlabel('Bootstrap OSR2 Estimate', fontsize=16)\n",
    "axs[1].set_xlabel('Boot OSR2 - XGBoost OSR2', fontsize=16)\n",
    "axs[0].set_ylabel('Count', fontsize=16)\n",
    "axs[0].hist(bs_output.iloc[:,0], bins=20,edgecolor='green', linewidth=2,color = \"grey\")\n",
    "axs[1].hist(bs_output.iloc[:,0]-XG_OSR2, bins=20,edgecolor='green', linewidth=2,color = \"grey\")"
   ]
  },
  {
   "cell_type": "markdown",
   "id": "138b50e9",
   "metadata": {},
   "source": [
    "#### manual CI + plot"
   ]
  },
  {
   "cell_type": "code",
   "execution_count": 47,
   "id": "1dea044d",
   "metadata": {},
   "outputs": [
    {
     "name": "stdout",
     "output_type": "stream",
     "text": [
      "The 95-percent confidence interval of OSR2 is [-0.01138854  0.01064887]\n"
     ]
    }
   ],
   "source": [
    "# The 95% confidence interval\n",
    "CI= np.quantile(bs_output.iloc[:,0]-XG_OSR2,np.array([0.025,0.975]))\n",
    "print(\"The 95-percent confidence interval of OSR2 is %s\" % CI)"
   ]
  },
  {
   "cell_type": "code",
   "execution_count": 48,
   "id": "44ed9b65",
   "metadata": {},
   "outputs": [
    {
     "data": {
      "text/plain": [
       "<matplotlib.collections.LineCollection at 0x7fbeb0a4fa00>"
      ]
     },
     "execution_count": 48,
     "metadata": {},
     "output_type": "execute_result"
    },
    {
     "data": {
      "image/png": "[encoded data removed]",
      "text/plain": [
       "<Figure size 576x432 with 1 Axes>"
      ]
     },
     "metadata": {
      "needs_background": "light"
     },
     "output_type": "display_data"
    }
   ],
   "source": [
    "fig, axs = plt.subplots(ncols=1, figsize=(8,6))\n",
    "axs.set_xlabel('Boot OSR2 - XGBoost OSR2', fontsize=16)\n",
    "axs.set_ylabel('Count', fontsize=16)\n",
    "axs.hist(bs_output.iloc[:,0]-XG_OSR2, bins=20,edgecolor='green', linewidth=2,color = \"grey\")\n",
    "#axs.set_xlim([-0.15,0.15])\n",
    "axs.vlines(x=CI[0], ymin = 0, ymax =800, color = \"black\")\n",
    "axs.vlines(x=CI[1], ymin = 0, ymax =800, color = \"black\")"
   ]
  },
  {
   "cell_type": "markdown",
   "id": "8443b48d",
   "metadata": {},
   "source": [
    "**In conclusion, since our confident interval contains Zero, we can say with 95% cofidence that our model will\n",
    "generate very similar result on future datasets**\n",
    "\n",
    "\n"
   ]
  },
  {
   "cell_type": "code",
   "execution_count": null,
   "id": "b9a32bb5",
   "metadata": {},
   "outputs": [],
   "source": []
  },
  {
   "cell_type": "markdown",
   "id": "deb91bb0",
   "metadata": {},
   "source": [
    "# Second Analysis"
   ]
  },
  {
   "cell_type": "markdown",
   "id": "9e802911",
   "metadata": {},
   "source": [
    "## 2.1 Data Prep for Analysis\n",
    "**Text analysis for Actor column**"
   ]
  },
  {
   "cell_type": "code",
   "execution_count": 49,
   "id": "27a31807",
   "metadata": {},
   "outputs": [
    {
     "data": {
      "text/html": [
       "<div>\n",
       "<style scoped>\n",
       "    .dataframe tbody tr th:only-of-type {\n",
       "        vertical-align: middle;\n",
       "    }\n",
       "\n",
       "    .dataframe tbody tr th {\n",
       "        vertical-align: top;\n",
       "    }\n",
       "\n",
       "    .dataframe thead th {\n",
       "        text-align: right;\n",
       "    }\n",
       "</style>\n",
       "<table border=\"1\" class=\"dataframe\">\n",
       "  <thead>\n",
       "    <tr style=\"text-align: right;\">\n",
       "      <th></th>\n",
       "      <th>actors</th>\n",
       "      <th>tomatometer_status</th>\n",
       "      <th>runtime</th>\n",
       "      <th>content_rating</th>\n",
       "      <th>genres</th>\n",
       "      <th>production_company</th>\n",
       "      <th>directors</th>\n",
       "    </tr>\n",
       "  </thead>\n",
       "  <tbody>\n",
       "    <tr>\n",
       "      <th>0</th>\n",
       "      <td>Logan Lerman, Brandon T. Jackson, Alexandra Da...</td>\n",
       "      <td>Rotten</td>\n",
       "      <td>119.0</td>\n",
       "      <td>PG</td>\n",
       "      <td>Action &amp; Adventure, Comedy, Drama, Science Fic...</td>\n",
       "      <td>20th Century Fox</td>\n",
       "      <td>Chris Columbus</td>\n",
       "    </tr>\n",
       "    <tr>\n",
       "      <th>1</th>\n",
       "      <td>Catherine Keener, Amanda Peet, Oliver Platt, R...</td>\n",
       "      <td>Certified-Fresh</td>\n",
       "      <td>90.0</td>\n",
       "      <td>R</td>\n",
       "      <td>Comedy</td>\n",
       "      <td>Sony Pictures Classics</td>\n",
       "      <td>Nicole Holofcener</td>\n",
       "    </tr>\n",
       "  </tbody>\n",
       "</table>\n",
       "</div>"
      ],
      "text/plain": [
       "                                              actors tomatometer_status  \\\n",
       "0  Logan Lerman, Brandon T. Jackson, Alexandra Da...             Rotten   \n",
       "1  Catherine Keener, Amanda Peet, Oliver Platt, R...    Certified-Fresh   \n",
       "\n",
       "   runtime content_rating                                             genres  \\\n",
       "0    119.0             PG  Action & Adventure, Comedy, Drama, Science Fic...   \n",
       "1     90.0              R                                             Comedy   \n",
       "\n",
       "       production_company          directors  \n",
       "0        20th Century Fox     Chris Columbus  \n",
       "1  Sony Pictures Classics  Nicole Holofcener  "
      ]
     },
     "execution_count": 49,
     "metadata": {},
     "output_type": "execute_result"
    }
   ],
   "source": [
    "pre_text = raw_data[['actors', 'tomatometer_status', 'runtime', 'content_rating',\n",
    "                       'genres','production_company','directors']]\n",
    "pre_text_no_na = pre_text.dropna()\n",
    "pre_text_no_na.reset_index(drop=True).head(2)"
   ]
  },
  {
   "cell_type": "code",
   "execution_count": 50,
   "id": "dd0f92f8",
   "metadata": {},
   "outputs": [
    {
     "data": {
      "text/plain": [
       "0    Logan Lerman, Brandon T. Jackson, Alexandra Da...\n",
       "1    Catherine Keener, Amanda Peet, Oliver Platt, R...\n",
       "Name: actors, dtype: object"
      ]
     },
     "execution_count": 50,
     "metadata": {},
     "output_type": "execute_result"
    }
   ],
   "source": [
    "text = pre_text_no_na['actors'].astype(str)\n",
    "text.head(2)"
   ]
  },
  {
   "cell_type": "code",
   "execution_count": 51,
   "id": "62f0d0e8",
   "metadata": {},
   "outputs": [
    {
     "data": {
      "text/plain": [
       "0    logan lerman, brandon t. jackson, alexandra da...\n",
       "1    catherine keener, amanda peet, oliver platt, r...\n",
       "Name: actors, dtype: object"
      ]
     },
     "execution_count": 51,
     "metadata": {},
     "output_type": "execute_result"
    }
   ],
   "source": [
    "#change to lower_case\n",
    "text_lowercase = text.str.lower()\n",
    "text_lowercase.astype(str).head(2)"
   ]
  },
  {
   "cell_type": "code",
   "execution_count": 52,
   "id": "a39bd94f",
   "metadata": {},
   "outputs": [
    {
     "data": {
      "text/plain": [
       "0    logan lerman brandon t jackson alexandra dadda...\n",
       "1    catherine keener amanda peet oliver platt rebe...\n",
       "Name: actors, dtype: object"
      ]
     },
     "execution_count": 52,
     "metadata": {},
     "output_type": "execute_result"
    }
   ],
   "source": [
    "text_no_p_d = text_lowercase.apply(remove_punct_dig)\n",
    "text_no_p_d.head(2)"
   ]
  },
  {
   "cell_type": "code",
   "execution_count": 53,
   "id": "eb7bb870",
   "metadata": {},
   "outputs": [
    {
     "data": {
      "text/plain": [
       "0    [logan, lerman, brandon, t, jackson, alexandra...\n",
       "1    [catherine, keener, amanda, peet, oliver, plat...\n",
       "Name: actors, dtype: object"
      ]
     },
     "execution_count": 53,
     "metadata": {},
     "output_type": "execute_result"
    }
   ],
   "source": [
    "text_tokenized = text_no_p_d.apply(word_tokenize)\n",
    "text_tokenized.head(2)"
   ]
  },
  {
   "cell_type": "code",
   "execution_count": 54,
   "id": "e603ef24",
   "metadata": {},
   "outputs": [
    {
     "data": {
      "text/plain": [
       "0    [logan, lerman, brandon, jackson, alexandra, d...\n",
       "1    [catherine, keener, amanda, peet, oliver, plat...\n",
       "Name: actors, dtype: object"
      ]
     },
     "execution_count": 54,
     "metadata": {},
     "output_type": "execute_result"
    }
   ],
   "source": [
    "text_no_stop = text_tokenized.apply(remove_stopwords)\n",
    "text_no_stop.head(2)"
   ]
  },
  {
   "cell_type": "code",
   "execution_count": 55,
   "id": "e3c1df32",
   "metadata": {},
   "outputs": [
    {
     "data": {
      "text/plain": [
       "0    [logan, lerman, brandon, jackson, alexandra, d...\n",
       "1    [catherin, keener, amanda, peet, oliv, platt, ...\n",
       "Name: actors, dtype: object"
      ]
     },
     "execution_count": 55,
     "metadata": {},
     "output_type": "execute_result"
    }
   ],
   "source": [
    "text_stemmed = text_no_stop.apply(stemmer)\n",
    "text_stemmed.head(2)"
   ]
  },
  {
   "cell_type": "code",
   "execution_count": 56,
   "id": "e988db1f",
   "metadata": {},
   "outputs": [
    {
     "data": {
      "text/plain": [
       "0    logan lerman brandon jackson alexandra daddari...\n",
       "1    catherin keener amanda peet oliv platt rebecca...\n",
       "Name: actors, dtype: object"
      ]
     },
     "execution_count": 56,
     "metadata": {},
     "output_type": "execute_result"
    }
   ],
   "source": [
    "#Detokenization\n",
    "text_detokenized = text_stemmed.apply(TreebankWordDetokenizer().detokenize)\n",
    "text_detokenized.head(2)"
   ]
  },
  {
   "cell_type": "code",
   "execution_count": 57,
   "id": "5a8f7b35",
   "metadata": {},
   "outputs": [
    {
     "data": {
      "text/plain": [
       "<16512x707 sparse matrix of type '<class 'numpy.int64'>'\n",
       "\twith 356288 stored elements in Compressed Sparse Row format>"
      ]
     },
     "execution_count": 57,
     "metadata": {},
     "output_type": "execute_result"
    }
   ],
   "source": [
    "# Document-term Matrix\n",
    "countvec22 = CountVectorizer(min_df=0.01)\n",
    "\n",
    "sparse_dtm1 = countvec22.fit_transform(text_detokenized)\n",
    "sparse_dtm1"
   ]
  },
  {
   "cell_type": "code",
   "execution_count": 58,
   "id": "8705366f",
   "metadata": {},
   "outputs": [],
   "source": [
    "dtm_pre = pd.DataFrame(sparse_dtm1.toarray(), columns=countvec22.get_feature_names_out(), index=text.index)\n",
    "dtm = dtm_pre.add_suffix('_actor')"
   ]
  },
  {
   "cell_type": "code",
   "execution_count": 59,
   "id": "0b8352c9",
   "metadata": {},
   "outputs": [],
   "source": [
    "#Joining both data sets\n",
    "new_raw_data = pre_text_no_na[['tomatometer_status', 'runtime', 'content_rating',\n",
    "                       'genres','production_company','directors']].join(dtm)\n",
    "new_raw_data = pd.get_dummies(new_raw_data, columns=['content_rating', 'genres','production_company','directors'], drop_first=True)\n"
   ]
  },
  {
   "cell_type": "code",
   "execution_count": 60,
   "id": "52e59786",
   "metadata": {},
   "outputs": [],
   "source": [
    "new_raw_data=new_raw_data[0:10000]"
   ]
  },
  {
   "cell_type": "code",
   "execution_count": 61,
   "id": "060ecd45",
   "metadata": {},
   "outputs": [],
   "source": [
    "## converting string category of tomatometer_status into int\n",
    "\n",
    "def get_status_score(value):\n",
    "    if value =='Rotten':\n",
    "        return 0\n",
    "    elif value == 'Fresh':\n",
    "        return 1\n",
    "    elif value == 'Certified-Fresh':\n",
    "        return 2\n",
    "    else: \n",
    "        return 0"
   ]
  },
  {
   "cell_type": "code",
   "execution_count": 62,
   "id": "e68f9a3e",
   "metadata": {},
   "outputs": [
    {
     "data": {
      "text/html": [
       "<div>\n",
       "<style scoped>\n",
       "    .dataframe tbody tr th:only-of-type {\n",
       "        vertical-align: middle;\n",
       "    }\n",
       "\n",
       "    .dataframe tbody tr th {\n",
       "        vertical-align: top;\n",
       "    }\n",
       "\n",
       "    .dataframe thead th {\n",
       "        text-align: right;\n",
       "    }\n",
       "</style>\n",
       "<table border=\"1\" class=\"dataframe\">\n",
       "  <thead>\n",
       "    <tr style=\"text-align: right;\">\n",
       "      <th></th>\n",
       "      <th>tomatometer_status</th>\n",
       "      <th>runtime</th>\n",
       "      <th>aaron_actor</th>\n",
       "      <th>abraham_actor</th>\n",
       "      <th>adam_actor</th>\n",
       "      <th>adrian_actor</th>\n",
       "      <th>al_actor</th>\n",
       "      <th>alan_actor</th>\n",
       "      <th>albert_actor</th>\n",
       "      <th>alec_actor</th>\n",
       "      <th>...</th>\n",
       "      <th>directors_Zoe Lister-Jones</th>\n",
       "      <th>directors_Zoltan Korda</th>\n",
       "      <th>directors_Zoya Akhtar</th>\n",
       "      <th>directors_Zoya Akhtar, Anurag Kashyap, Dibakar Banerjee, Karan Johar</th>\n",
       "      <th>directors_Ágúst Guðmundsson</th>\n",
       "      <th>directors_Álex de la Iglesia</th>\n",
       "      <th>directors_Åke Sandgren</th>\n",
       "      <th>directors_Émile Gaudreault</th>\n",
       "      <th>directors_Éva Gárdos</th>\n",
       "      <th>tomatometer_status_score</th>\n",
       "    </tr>\n",
       "  </thead>\n",
       "  <tbody>\n",
       "    <tr>\n",
       "      <th>0</th>\n",
       "      <td>Rotten</td>\n",
       "      <td>119.0</td>\n",
       "      <td>0</td>\n",
       "      <td>0</td>\n",
       "      <td>0</td>\n",
       "      <td>0</td>\n",
       "      <td>0</td>\n",
       "      <td>0</td>\n",
       "      <td>0</td>\n",
       "      <td>0</td>\n",
       "      <td>...</td>\n",
       "      <td>0</td>\n",
       "      <td>0</td>\n",
       "      <td>0</td>\n",
       "      <td>0</td>\n",
       "      <td>0</td>\n",
       "      <td>0</td>\n",
       "      <td>0</td>\n",
       "      <td>0</td>\n",
       "      <td>0</td>\n",
       "      <td>0</td>\n",
       "    </tr>\n",
       "    <tr>\n",
       "      <th>1</th>\n",
       "      <td>Certified-Fresh</td>\n",
       "      <td>90.0</td>\n",
       "      <td>0</td>\n",
       "      <td>0</td>\n",
       "      <td>0</td>\n",
       "      <td>0</td>\n",
       "      <td>0</td>\n",
       "      <td>0</td>\n",
       "      <td>0</td>\n",
       "      <td>0</td>\n",
       "      <td>...</td>\n",
       "      <td>0</td>\n",
       "      <td>0</td>\n",
       "      <td>0</td>\n",
       "      <td>0</td>\n",
       "      <td>0</td>\n",
       "      <td>0</td>\n",
       "      <td>0</td>\n",
       "      <td>0</td>\n",
       "      <td>0</td>\n",
       "      <td>2</td>\n",
       "    </tr>\n",
       "    <tr>\n",
       "      <th>2</th>\n",
       "      <td>Fresh</td>\n",
       "      <td>122.0</td>\n",
       "      <td>0</td>\n",
       "      <td>0</td>\n",
       "      <td>0</td>\n",
       "      <td>1</td>\n",
       "      <td>0</td>\n",
       "      <td>0</td>\n",
       "      <td>0</td>\n",
       "      <td>0</td>\n",
       "      <td>...</td>\n",
       "      <td>0</td>\n",
       "      <td>0</td>\n",
       "      <td>0</td>\n",
       "      <td>0</td>\n",
       "      <td>0</td>\n",
       "      <td>0</td>\n",
       "      <td>0</td>\n",
       "      <td>0</td>\n",
       "      <td>0</td>\n",
       "      <td>1</td>\n",
       "    </tr>\n",
       "  </tbody>\n",
       "</table>\n",
       "<p>3 rows × 12967 columns</p>\n",
       "</div>"
      ],
      "text/plain": [
       "  tomatometer_status  runtime  aaron_actor  abraham_actor  adam_actor  \\\n",
       "0             Rotten    119.0            0              0           0   \n",
       "1    Certified-Fresh     90.0            0              0           0   \n",
       "2              Fresh    122.0            0              0           0   \n",
       "\n",
       "   adrian_actor  al_actor  alan_actor  albert_actor  alec_actor  ...  \\\n",
       "0             0         0           0             0           0  ...   \n",
       "1             0         0           0             0           0  ...   \n",
       "2             1         0           0             0           0  ...   \n",
       "\n",
       "   directors_Zoe Lister-Jones  directors_Zoltan Korda  directors_Zoya Akhtar  \\\n",
       "0                           0                       0                      0   \n",
       "1                           0                       0                      0   \n",
       "2                           0                       0                      0   \n",
       "\n",
       "   directors_Zoya Akhtar, Anurag Kashyap, Dibakar Banerjee, Karan Johar  \\\n",
       "0                                                  0                      \n",
       "1                                                  0                      \n",
       "2                                                  0                      \n",
       "\n",
       "   directors_Ágúst Guðmundsson  directors_Álex de la Iglesia  \\\n",
       "0                            0                             0   \n",
       "1                            0                             0   \n",
       "2                            0                             0   \n",
       "\n",
       "   directors_Åke Sandgren  directors_Émile Gaudreault  directors_Éva Gárdos  \\\n",
       "0                       0                           0                     0   \n",
       "1                       0                           0                     0   \n",
       "2                       0                           0                     0   \n",
       "\n",
       "   tomatometer_status_score  \n",
       "0                         0  \n",
       "1                         2  \n",
       "2                         1  \n",
       "\n",
       "[3 rows x 12967 columns]"
      ]
     },
     "execution_count": 62,
     "metadata": {},
     "output_type": "execute_result"
    }
   ],
   "source": [
    "new_score = new_raw_data['tomatometer_status'].apply(get_status_score)\n",
    "new_raw_data['tomatometer_status_score'] = new_score.astype(int)\n",
    "\n",
    "new_raw_data.head(3)"
   ]
  },
  {
   "cell_type": "code",
   "execution_count": 63,
   "id": "027c6bb4",
   "metadata": {},
   "outputs": [
    {
     "name": "stdout",
     "output_type": "stream",
     "text": [
      "Rotten             4463\n",
      "Fresh              3676\n",
      "Certified-Fresh    1861\n",
      "Name: tomatometer_status, dtype: int64\n"
     ]
    },
    {
     "name": "stderr",
     "output_type": "stream",
     "text": [
      "/Users/adedeji/opt/anaconda3/lib/python3.9/site-packages/seaborn/_decorators.py:36: FutureWarning: Pass the following variable as a keyword arg: x. From version 0.12, the only valid positional argument will be `data`, and passing other arguments without an explicit keyword will result in an error or misinterpretation.\n",
      "  warnings.warn(\n"
     ]
    },
    {
     "data": {
      "image/png": "[encoded data removed]",
      "text/plain": [
       "<Figure size 432x288 with 1 Axes>"
      ]
     },
     "metadata": {
      "needs_background": "light"
     },
     "output_type": "display_data"
    }
   ],
   "source": [
    "#Checking if our classed are evenly distributed\n",
    "sns.countplot(new_raw_data['tomatometer_status'], order=new_raw_data['tomatometer_status'].value_counts().index);\n",
    "print(new_raw_data['tomatometer_status'].value_counts())"
   ]
  },
  {
   "cell_type": "code",
   "execution_count": 64,
   "id": "37402e87",
   "metadata": {},
   "outputs": [
    {
     "data": {
      "text/html": [
       "<div>\n",
       "<style scoped>\n",
       "    .dataframe tbody tr th:only-of-type {\n",
       "        vertical-align: middle;\n",
       "    }\n",
       "\n",
       "    .dataframe tbody tr th {\n",
       "        vertical-align: top;\n",
       "    }\n",
       "\n",
       "    .dataframe thead th {\n",
       "        text-align: right;\n",
       "    }\n",
       "</style>\n",
       "<table border=\"1\" class=\"dataframe\">\n",
       "  <thead>\n",
       "    <tr style=\"text-align: right;\">\n",
       "      <th></th>\n",
       "      <th>runtime</th>\n",
       "      <th>aaron_actor</th>\n",
       "      <th>abraham_actor</th>\n",
       "      <th>adam_actor</th>\n",
       "      <th>adrian_actor</th>\n",
       "      <th>al_actor</th>\n",
       "      <th>alan_actor</th>\n",
       "      <th>albert_actor</th>\n",
       "      <th>alec_actor</th>\n",
       "      <th>alex_actor</th>\n",
       "      <th>...</th>\n",
       "      <th>directors_Zoe Lister-Jones</th>\n",
       "      <th>directors_Zoltan Korda</th>\n",
       "      <th>directors_Zoya Akhtar</th>\n",
       "      <th>directors_Zoya Akhtar, Anurag Kashyap, Dibakar Banerjee, Karan Johar</th>\n",
       "      <th>directors_Ágúst Guðmundsson</th>\n",
       "      <th>directors_Álex de la Iglesia</th>\n",
       "      <th>directors_Åke Sandgren</th>\n",
       "      <th>directors_Émile Gaudreault</th>\n",
       "      <th>directors_Éva Gárdos</th>\n",
       "      <th>tomatometer_status_score</th>\n",
       "    </tr>\n",
       "  </thead>\n",
       "  <tbody>\n",
       "    <tr>\n",
       "      <th>count</th>\n",
       "      <td>10000.000000</td>\n",
       "      <td>10000.000000</td>\n",
       "      <td>10000.000000</td>\n",
       "      <td>10000.000000</td>\n",
       "      <td>10000.000000</td>\n",
       "      <td>10000.000000</td>\n",
       "      <td>10000.000000</td>\n",
       "      <td>10000.000000</td>\n",
       "      <td>10000.000000</td>\n",
       "      <td>10000.000000</td>\n",
       "      <td>...</td>\n",
       "      <td>10000.0000</td>\n",
       "      <td>10000.000000</td>\n",
       "      <td>10000.0000</td>\n",
       "      <td>10000.0000</td>\n",
       "      <td>10000.0</td>\n",
       "      <td>10000.000000</td>\n",
       "      <td>10000.0</td>\n",
       "      <td>10000.0000</td>\n",
       "      <td>10000.0000</td>\n",
       "      <td>10000.0000</td>\n",
       "    </tr>\n",
       "    <tr>\n",
       "      <th>mean</th>\n",
       "      <td>102.873400</td>\n",
       "      <td>0.042000</td>\n",
       "      <td>0.010600</td>\n",
       "      <td>0.099600</td>\n",
       "      <td>0.024800</td>\n",
       "      <td>0.040500</td>\n",
       "      <td>0.081300</td>\n",
       "      <td>0.029400</td>\n",
       "      <td>0.014000</td>\n",
       "      <td>0.067400</td>\n",
       "      <td>...</td>\n",
       "      <td>0.0001</td>\n",
       "      <td>0.000400</td>\n",
       "      <td>0.0001</td>\n",
       "      <td>0.0001</td>\n",
       "      <td>0.0</td>\n",
       "      <td>0.000200</td>\n",
       "      <td>0.0</td>\n",
       "      <td>0.0001</td>\n",
       "      <td>0.0001</td>\n",
       "      <td>0.7398</td>\n",
       "    </tr>\n",
       "    <tr>\n",
       "      <th>std</th>\n",
       "      <td>18.864394</td>\n",
       "      <td>0.210334</td>\n",
       "      <td>0.103386</td>\n",
       "      <td>0.342186</td>\n",
       "      <td>0.161826</td>\n",
       "      <td>0.215092</td>\n",
       "      <td>0.301163</td>\n",
       "      <td>0.178714</td>\n",
       "      <td>0.119186</td>\n",
       "      <td>0.271044</td>\n",
       "      <td>...</td>\n",
       "      <td>0.0100</td>\n",
       "      <td>0.019997</td>\n",
       "      <td>0.0100</td>\n",
       "      <td>0.0100</td>\n",
       "      <td>0.0</td>\n",
       "      <td>0.014141</td>\n",
       "      <td>0.0</td>\n",
       "      <td>0.0100</td>\n",
       "      <td>0.0100</td>\n",
       "      <td>0.7515</td>\n",
       "    </tr>\n",
       "    <tr>\n",
       "      <th>min</th>\n",
       "      <td>8.000000</td>\n",
       "      <td>0.000000</td>\n",
       "      <td>0.000000</td>\n",
       "      <td>0.000000</td>\n",
       "      <td>0.000000</td>\n",
       "      <td>0.000000</td>\n",
       "      <td>0.000000</td>\n",
       "      <td>0.000000</td>\n",
       "      <td>0.000000</td>\n",
       "      <td>0.000000</td>\n",
       "      <td>...</td>\n",
       "      <td>0.0000</td>\n",
       "      <td>0.000000</td>\n",
       "      <td>0.0000</td>\n",
       "      <td>0.0000</td>\n",
       "      <td>0.0</td>\n",
       "      <td>0.000000</td>\n",
       "      <td>0.0</td>\n",
       "      <td>0.0000</td>\n",
       "      <td>0.0000</td>\n",
       "      <td>0.0000</td>\n",
       "    </tr>\n",
       "    <tr>\n",
       "      <th>25%</th>\n",
       "      <td>91.000000</td>\n",
       "      <td>0.000000</td>\n",
       "      <td>0.000000</td>\n",
       "      <td>0.000000</td>\n",
       "      <td>0.000000</td>\n",
       "      <td>0.000000</td>\n",
       "      <td>0.000000</td>\n",
       "      <td>0.000000</td>\n",
       "      <td>0.000000</td>\n",
       "      <td>0.000000</td>\n",
       "      <td>...</td>\n",
       "      <td>0.0000</td>\n",
       "      <td>0.000000</td>\n",
       "      <td>0.0000</td>\n",
       "      <td>0.0000</td>\n",
       "      <td>0.0</td>\n",
       "      <td>0.000000</td>\n",
       "      <td>0.0</td>\n",
       "      <td>0.0000</td>\n",
       "      <td>0.0000</td>\n",
       "      <td>0.0000</td>\n",
       "    </tr>\n",
       "    <tr>\n",
       "      <th>50%</th>\n",
       "      <td>100.000000</td>\n",
       "      <td>0.000000</td>\n",
       "      <td>0.000000</td>\n",
       "      <td>0.000000</td>\n",
       "      <td>0.000000</td>\n",
       "      <td>0.000000</td>\n",
       "      <td>0.000000</td>\n",
       "      <td>0.000000</td>\n",
       "      <td>0.000000</td>\n",
       "      <td>0.000000</td>\n",
       "      <td>...</td>\n",
       "      <td>0.0000</td>\n",
       "      <td>0.000000</td>\n",
       "      <td>0.0000</td>\n",
       "      <td>0.0000</td>\n",
       "      <td>0.0</td>\n",
       "      <td>0.000000</td>\n",
       "      <td>0.0</td>\n",
       "      <td>0.0000</td>\n",
       "      <td>0.0000</td>\n",
       "      <td>1.0000</td>\n",
       "    </tr>\n",
       "    <tr>\n",
       "      <th>75%</th>\n",
       "      <td>111.000000</td>\n",
       "      <td>0.000000</td>\n",
       "      <td>0.000000</td>\n",
       "      <td>0.000000</td>\n",
       "      <td>0.000000</td>\n",
       "      <td>0.000000</td>\n",
       "      <td>0.000000</td>\n",
       "      <td>0.000000</td>\n",
       "      <td>0.000000</td>\n",
       "      <td>0.000000</td>\n",
       "      <td>...</td>\n",
       "      <td>0.0000</td>\n",
       "      <td>0.000000</td>\n",
       "      <td>0.0000</td>\n",
       "      <td>0.0000</td>\n",
       "      <td>0.0</td>\n",
       "      <td>0.000000</td>\n",
       "      <td>0.0</td>\n",
       "      <td>0.0000</td>\n",
       "      <td>0.0000</td>\n",
       "      <td>1.0000</td>\n",
       "    </tr>\n",
       "    <tr>\n",
       "      <th>max</th>\n",
       "      <td>254.000000</td>\n",
       "      <td>3.000000</td>\n",
       "      <td>2.000000</td>\n",
       "      <td>4.000000</td>\n",
       "      <td>2.000000</td>\n",
       "      <td>3.000000</td>\n",
       "      <td>3.000000</td>\n",
       "      <td>2.000000</td>\n",
       "      <td>2.000000</td>\n",
       "      <td>4.000000</td>\n",
       "      <td>...</td>\n",
       "      <td>1.0000</td>\n",
       "      <td>1.000000</td>\n",
       "      <td>1.0000</td>\n",
       "      <td>1.0000</td>\n",
       "      <td>0.0</td>\n",
       "      <td>1.000000</td>\n",
       "      <td>0.0</td>\n",
       "      <td>1.0000</td>\n",
       "      <td>1.0000</td>\n",
       "      <td>2.0000</td>\n",
       "    </tr>\n",
       "  </tbody>\n",
       "</table>\n",
       "<p>8 rows × 12966 columns</p>\n",
       "</div>"
      ],
      "text/plain": [
       "            runtime   aaron_actor  abraham_actor    adam_actor  adrian_actor  \\\n",
       "count  10000.000000  10000.000000   10000.000000  10000.000000  10000.000000   \n",
       "mean     102.873400      0.042000       0.010600      0.099600      0.024800   \n",
       "std       18.864394      0.210334       0.103386      0.342186      0.161826   \n",
       "min        8.000000      0.000000       0.000000      0.000000      0.000000   \n",
       "25%       91.000000      0.000000       0.000000      0.000000      0.000000   \n",
       "50%      100.000000      0.000000       0.000000      0.000000      0.000000   \n",
       "75%      111.000000      0.000000       0.000000      0.000000      0.000000   \n",
       "max      254.000000      3.000000       2.000000      4.000000      2.000000   \n",
       "\n",
       "           al_actor    alan_actor  albert_actor    alec_actor    alex_actor  \\\n",
       "count  10000.000000  10000.000000  10000.000000  10000.000000  10000.000000   \n",
       "mean       0.040500      0.081300      0.029400      0.014000      0.067400   \n",
       "std        0.215092      0.301163      0.178714      0.119186      0.271044   \n",
       "min        0.000000      0.000000      0.000000      0.000000      0.000000   \n",
       "25%        0.000000      0.000000      0.000000      0.000000      0.000000   \n",
       "50%        0.000000      0.000000      0.000000      0.000000      0.000000   \n",
       "75%        0.000000      0.000000      0.000000      0.000000      0.000000   \n",
       "max        3.000000      3.000000      2.000000      2.000000      4.000000   \n",
       "\n",
       "       ...  directors_Zoe Lister-Jones  directors_Zoltan Korda  \\\n",
       "count  ...                  10000.0000            10000.000000   \n",
       "mean   ...                      0.0001                0.000400   \n",
       "std    ...                      0.0100                0.019997   \n",
       "min    ...                      0.0000                0.000000   \n",
       "25%    ...                      0.0000                0.000000   \n",
       "50%    ...                      0.0000                0.000000   \n",
       "75%    ...                      0.0000                0.000000   \n",
       "max    ...                      1.0000                1.000000   \n",
       "\n",
       "       directors_Zoya Akhtar  \\\n",
       "count             10000.0000   \n",
       "mean                  0.0001   \n",
       "std                   0.0100   \n",
       "min                   0.0000   \n",
       "25%                   0.0000   \n",
       "50%                   0.0000   \n",
       "75%                   0.0000   \n",
       "max                   1.0000   \n",
       "\n",
       "       directors_Zoya Akhtar, Anurag Kashyap, Dibakar Banerjee, Karan Johar  \\\n",
       "count                                         10000.0000                      \n",
       "mean                                              0.0001                      \n",
       "std                                               0.0100                      \n",
       "min                                               0.0000                      \n",
       "25%                                               0.0000                      \n",
       "50%                                               0.0000                      \n",
       "75%                                               0.0000                      \n",
       "max                                               1.0000                      \n",
       "\n",
       "       directors_Ágúst Guðmundsson  directors_Álex de la Iglesia  \\\n",
       "count                      10000.0                  10000.000000   \n",
       "mean                           0.0                      0.000200   \n",
       "std                            0.0                      0.014141   \n",
       "min                            0.0                      0.000000   \n",
       "25%                            0.0                      0.000000   \n",
       "50%                            0.0                      0.000000   \n",
       "75%                            0.0                      0.000000   \n",
       "max                            0.0                      1.000000   \n",
       "\n",
       "       directors_Åke Sandgren  directors_Émile Gaudreault  \\\n",
       "count                 10000.0                  10000.0000   \n",
       "mean                      0.0                      0.0001   \n",
       "std                       0.0                      0.0100   \n",
       "min                       0.0                      0.0000   \n",
       "25%                       0.0                      0.0000   \n",
       "50%                       0.0                      0.0000   \n",
       "75%                       0.0                      0.0000   \n",
       "max                       0.0                      1.0000   \n",
       "\n",
       "       directors_Éva Gárdos  tomatometer_status_score  \n",
       "count            10000.0000                10000.0000  \n",
       "mean                 0.0001                    0.7398  \n",
       "std                  0.0100                    0.7515  \n",
       "min                  0.0000                    0.0000  \n",
       "25%                  0.0000                    0.0000  \n",
       "50%                  0.0000                    1.0000  \n",
       "75%                  0.0000                    1.0000  \n",
       "max                  1.0000                    2.0000  \n",
       "\n",
       "[8 rows x 12966 columns]"
      ]
     },
     "execution_count": 64,
     "metadata": {},
     "output_type": "execute_result"
    }
   ],
   "source": [
    "#Separating dataset into dependent(Y) and independent(X) sets\n",
    "y = new_raw_data['tomatometer_status_score']\n",
    "x = new_raw_data.drop(['tomatometer_status_score', 'tomatometer_status'], axis=1)\n",
    "new_raw_data.describe()"
   ]
  },
  {
   "cell_type": "code",
   "execution_count": 65,
   "id": "a40f872f",
   "metadata": {},
   "outputs": [
    {
     "data": {
      "text/plain": [
       "((7000, 12965), (3000, 12965))"
      ]
     },
     "execution_count": 65,
     "metadata": {},
     "output_type": "execute_result"
    }
   ],
   "source": [
    "from sklearn.model_selection import train_test_split\n",
    "\n",
    "train_x, test_x, train_y, test_y  = train_test_split(x, y, test_size=0.3, random_state=88)\n",
    "train_x.shape, test_x.shape"
   ]
  },
  {
   "cell_type": "markdown",
   "id": "5a7907bf",
   "metadata": {},
   "source": [
    "## 2.2  LDA"
   ]
  },
  {
   "cell_type": "code",
   "execution_count": 66,
   "id": "7cfd62bc",
   "metadata": {},
   "outputs": [],
   "source": [
    "data_train_y=train_y.to_numpy()\n",
    "data_train_x=train_x.to_numpy()\n",
    "\n",
    "data_test_y=test_y.to_numpy()\n",
    "data_test_x=test_x.to_numpy()"
   ]
  },
  {
   "cell_type": "code",
   "execution_count": 68,
   "id": "3fa46337",
   "metadata": {},
   "outputs": [
    {
     "data": {
      "text/plain": [
       "LinearDiscriminantAnalysis()"
      ]
     },
     "execution_count": 68,
     "metadata": {},
     "output_type": "execute_result"
    }
   ],
   "source": [
    "from sklearn.discriminant_analysis import LinearDiscriminantAnalysis\n",
    "from sklearn.metrics import accuracy_score\n",
    "lda = LinearDiscriminantAnalysis(\n",
    ")\n",
    "lda.fit(data_train_x,data_train_y)"
   ]
  },
  {
   "cell_type": "code",
   "execution_count": 69,
   "id": "00156666",
   "metadata": {},
   "outputs": [],
   "source": [
    "data_plot = lda.transform(data_train_x)"
   ]
  },
  {
   "cell_type": "code",
   "execution_count": 70,
   "id": "3754be7c",
   "metadata": {},
   "outputs": [
    {
     "data": {
      "image/png": "[encoded data removed]",
      "text/plain": [
       "<Figure size 576x432 with 1 Axes>"
      ]
     },
     "metadata": {
      "needs_background": "light"
     },
     "output_type": "display_data"
    }
   ],
   "source": [
    "from sklearn.metrics import roc_curve, auc\n",
    "import matplotlib.pyplot as plt\n",
    "plt.figure(figsize=(8, 6))\n",
    "\n",
    "## set up the label and color of different classes for plotting.\n",
    "\n",
    "tomatometer_status = new_raw_data.tomatometer_status\n",
    "colors = ['red', 'green', 'blue']\n",
    "lw = 2\n",
    "\n",
    "for color, i, target_name in zip(colors, [0, 1, 2], tomatometer_status):\n",
    "    plt.scatter(data_plot[data_train_y == i, 0], data_plot[data_train_y == i, 1], alpha=.8, color=color,\n",
    "                label=target_name)\n",
    "\n",
    "plt.legend(loc='best', shadow=False, scatterpoints=1)\n",
    "plt.show()"
   ]
  },
  {
   "cell_type": "code",
   "execution_count": 71,
   "id": "d393a9ac",
   "metadata": {},
   "outputs": [
    {
     "name": "stdout",
     "output_type": "stream",
     "text": [
      "Model Precision (OSR2):  0.45067\n"
     ]
    }
   ],
   "source": [
    "#predicting test set\n",
    "\n",
    "y_prob_lda = lda.predict(data_test_x)\n",
    "OSR2_lda = lda.score(data_test_x, data_test_y)\n",
    "print('Model Precision (OSR2): ',round(OSR2_lda, 5))"
   ]
  },
  {
   "cell_type": "code",
   "execution_count": 74,
   "id": "c0b3536f",
   "metadata": {},
   "outputs": [
    {
     "data": {
      "image/png": "[encoded data removed]",
      "text/plain": [
       "<Figure size 432x288 with 2 Axes>"
      ]
     },
     "metadata": {
      "needs_background": "light"
     },
     "output_type": "display_data"
    }
   ],
   "source": [
    "#Generating Confustion matrix fort the LDA Model.\n",
    "cm_lda1 = confusion_matrix(data_test_y, y_prob_lda)\n",
    "class_names = ['Group 1', 'Group 2', 'Group 3']\n",
    "cm_display = ConfusionMatrixDisplay(confusion_matrix = cm_lda1, display_labels = class_names)\n",
    "\n",
    "cm_display.plot()\n",
    "plt.show()"
   ]
  },
  {
   "cell_type": "code",
   "execution_count": 75,
   "id": "9714d432",
   "metadata": {},
   "outputs": [],
   "source": [
    "def TPR_FPR_ACC(cnf_matrix):\n",
    "    FP = cnf_matrix.sum(axis=0) - np.diag(cnf_matrix) \n",
    "    FN = cnf_matrix.sum(axis=1) - np.diag(cnf_matrix)\n",
    "    TP = np.diag(cnf_matrix)\n",
    "    TN = cnf_matrix.sum() - (FP + FN + TP)\n",
    "    \n",
    "    FP = FP.astype(float)\n",
    "    FN = FN.astype(float)\n",
    "    TP = TP.astype(float)\n",
    "    TN = TN.astype(float)\n",
    "    \n",
    "    # Sensitivity, hit rate, recall, or true positive rate\n",
    "    TPR = TP/(TP+FN)\n",
    "     \n",
    "    # Fall out or false positive rate\n",
    "    FPR = FP/(FP+TN)\n",
    "\n",
    "    # Overall accuracy for each class\n",
    "    ACC = (TP+TN)/(TP+FP+FN+TN)\n",
    "    return TPR, FPR, ACC"
   ]
  },
  {
   "cell_type": "code",
   "execution_count": 77,
   "id": "ac5484a8",
   "metadata": {},
   "outputs": [
    {
     "name": "stdout",
     "output_type": "stream",
     "text": [
      "LDA_TPR :  [0.50264151 0.46071429 0.30630631]\n",
      "LDA_FPR :  [0.33671642 0.33829787 0.18323108]\n",
      "LDA_ACC :  [0.59233333 0.58666667 0.72233333]\n"
     ]
    }
   ],
   "source": [
    "LDA_TPR, LDA_FPR, LDA_ACC = TPR_FPR_ACC(cm_lda1)\n",
    "print('LDA_TPR : ',LDA_TPR)\n",
    "print('LDA_FPR : ',LDA_FPR)\n",
    "print('LDA_ACC : ',LDA_ACC)"
   ]
  },
  {
   "cell_type": "markdown",
   "id": "133f5312",
   "metadata": {},
   "source": [
    "##  2.3 CART Model"
   ]
  },
  {
   "cell_type": "code",
   "execution_count": 78,
   "id": "8e758956",
   "metadata": {},
   "outputs": [],
   "source": [
    "from sklearn.model_selection import GridSearchCV\n",
    "from sklearn.tree import DecisionTreeClassifier\n",
    "# this package can apply to find best combination of parameters....\n",
    "\n",
    "#Exhaustive search over specified parameter values for an estimator.\n",
    "\n",
    "grid_values = {'ccp_alpha': np.linspace(0.0, 0.005, 5),\n",
    "               'min_samples_leaf': [5],\n",
    "               'min_samples_split': [20],\n",
    "               'max_depth': [30],\n",
    "               'class_weight' : [{0: 1, 1: 20}],\n",
    "               'random_state': [88]} \n",
    "            \n",
    "dtc = DecisionTreeClassifier(class_weight = 'balanced')\n",
    "\n",
    "#best combo of  paramters to find best accuracy\n",
    "dtc_cv_acc = GridSearchCV(dtc, param_grid = grid_values, scoring = 'accuracy', cv=10, verbose=0) \n",
    "\n",
    "# default scoring metric to optimize is accuracy, used as default if none given.\n",
    "training = dtc_cv_acc.fit(train_x, train_y)"
   ]
  },
  {
   "cell_type": "code",
   "execution_count": 79,
   "id": "7785fd90",
   "metadata": {},
   "outputs": [
    {
     "data": {
      "text/html": [
       "<div>\n",
       "<style scoped>\n",
       "    .dataframe tbody tr th:only-of-type {\n",
       "        vertical-align: middle;\n",
       "    }\n",
       "\n",
       "    .dataframe tbody tr th {\n",
       "        vertical-align: top;\n",
       "    }\n",
       "\n",
       "    .dataframe thead th {\n",
       "        text-align: right;\n",
       "    }\n",
       "</style>\n",
       "<table border=\"1\" class=\"dataframe\">\n",
       "  <thead>\n",
       "    <tr style=\"text-align: right;\">\n",
       "      <th></th>\n",
       "      <th>ccp alpha</th>\n",
       "      <th>Validation Accuracy</th>\n",
       "    </tr>\n",
       "  </thead>\n",
       "  <tbody>\n",
       "    <tr>\n",
       "      <th>0</th>\n",
       "      <td>0.0</td>\n",
       "      <td>0.417143</td>\n",
       "    </tr>\n",
       "    <tr>\n",
       "      <th>1</th>\n",
       "      <td>0.00125</td>\n",
       "      <td>0.365143</td>\n",
       "    </tr>\n",
       "    <tr>\n",
       "      <th>2</th>\n",
       "      <td>0.0025</td>\n",
       "      <td>0.365143</td>\n",
       "    </tr>\n",
       "    <tr>\n",
       "      <th>3</th>\n",
       "      <td>0.00375</td>\n",
       "      <td>0.365143</td>\n",
       "    </tr>\n",
       "    <tr>\n",
       "      <th>4</th>\n",
       "      <td>0.005</td>\n",
       "      <td>0.365143</td>\n",
       "    </tr>\n",
       "  </tbody>\n",
       "</table>\n",
       "</div>"
      ],
      "text/plain": [
       "  ccp alpha  Validation Accuracy\n",
       "0       0.0             0.417143\n",
       "1   0.00125             0.365143\n",
       "2    0.0025             0.365143\n",
       "3   0.00375             0.365143\n",
       "4     0.005             0.365143"
      ]
     },
     "execution_count": 79,
     "metadata": {},
     "output_type": "execute_result"
    }
   ],
   "source": [
    "acc = dtc_cv_acc.cv_results_['mean_test_score'] \n",
    "# what sklearn calls mean_test_score is the holdout set, i.e. the validation set.\n",
    "ccp = dtc_cv_acc.cv_results_['param_ccp_alpha'].data\n",
    "\n",
    "pd.DataFrame({'ccp alpha' : ccp, 'Validation Accuracy': acc}).head(20)\n",
    "\n",
    "#to find ccp value we test across different values.....\n",
    "#verbose is the report meassgae about what you are modeling..\n"
   ]
  },
  {
   "cell_type": "code",
   "execution_count": 80,
   "id": "07c40466",
   "metadata": {},
   "outputs": [
    {
     "data": {
      "image/png": "[encoded data removed]",
      "text/plain": [
       "<Figure size 576x432 with 1 Axes>"
      ]
     },
     "metadata": {
      "needs_background": "light"
     },
     "output_type": "display_data"
    }
   ],
   "source": [
    "plt.figure(figsize=(8, 6))\n",
    "plt.xlabel('ccp alpha', fontsize=16)\n",
    "plt.ylabel('mean validation accuracy', fontsize=16)\n",
    "plt.scatter(ccp, acc, s=2)\n",
    "plt.plot(ccp, acc, linewidth=3)\n",
    "plt.grid(True, which='both')\n",
    "plt.show()\n",
    "\n",
    "#visaulization is a good way to show why you are choosing thay parameter!!!"
   ]
  },
  {
   "cell_type": "code",
   "execution_count": 81,
   "id": "902a5012",
   "metadata": {},
   "outputs": [
    {
     "name": "stdout",
     "output_type": "stream",
     "text": [
      "Grid best parameter (max. Accuracy):  {'ccp_alpha': 0.0, 'class_weight': {0: 1, 1: 20}, 'max_depth': 30, 'min_samples_leaf': 5, 'min_samples_split': 20, 'random_state': 88}\n",
      "Node count = 427\n"
     ]
    }
   ],
   "source": [
    "print('Grid best parameter (max. Accuracy): ', dtc_cv_acc.best_params_)\n",
    "print('Node count =', dtc_cv_acc.best_estimator_.tree_.node_count)"
   ]
  },
  {
   "cell_type": "code",
   "execution_count": 84,
   "id": "5b1a8f87",
   "metadata": {},
   "outputs": [
    {
     "name": "stdout",
     "output_type": "stream",
     "text": [
      "Model Precision (R2):  0.4171428571428571\n",
      "Model Precision (OSR2): 0.418\n"
     ]
    }
   ],
   "source": [
    "\n",
    "y_pred_cart = dtc_cv_acc.predict(test_x)\n",
    "cm_cart = confusion_matrix(test_y, y_pred_cart)\n",
    "\n",
    "print('Model Precision (R2): ', dtc_cv_acc.best_score_)\n",
    "CART_OSR2 = precision_score(test_y, y_pred_cart, average='micro')\n",
    "print('Model Precision (OSR2):', round(CART_OSR2, 5))"
   ]
  },
  {
   "cell_type": "code",
   "execution_count": 85,
   "id": "c08c8047",
   "metadata": {},
   "outputs": [
    {
     "data": {
      "image/png": "[encoded data removed]",
      "text/plain": [
       "<Figure size 432x288 with 2 Axes>"
      ]
     },
     "metadata": {
      "needs_background": "light"
     },
     "output_type": "display_data"
    }
   ],
   "source": [
    "#plotting Confussion Matrix\n",
    "#fig, axs = plt.subplots(ncols=3, figsize=(12,5))\n",
    "cm_display1 = ConfusionMatrixDisplay(confusion_matrix = cm_cart, display_labels = class_names)\n",
    "\n",
    "\n",
    "cm_display1.plot()\n",
    "\n",
    "plt.show()"
   ]
  },
  {
   "cell_type": "markdown",
   "id": "d807a25e",
   "metadata": {},
   "source": [
    "## 2.4 Random Forest Classification Model"
   ]
  },
  {
   "cell_type": "code",
   "execution_count": 86,
   "id": "593dd336",
   "metadata": {},
   "outputs": [
    {
     "name": "stdout",
     "output_type": "stream",
     "text": [
      "time: 5948.82 s\n"
     ]
    }
   ],
   "source": [
    "from sklearn.ensemble import RandomForestClassifier\n",
    "import time\n",
    "\n",
    "grid_values = {'max_features': np.linspace(1,100,100, dtype='int32'),\n",
    "              'min_samples_leaf': [5],\n",
    "              'n_estimators': [100],\n",
    "              'random_state': [88]} \n",
    "\n",
    "tic = time.time()\n",
    "\n",
    "rf = RandomForestClassifier(class_weight = 'balanced') \n",
    "rf_cv = GridSearchCV(rf, param_grid=grid_values, scoring='accuracy', cv=10)\n",
    "rf_cv.fit(train_x, train_y)\n",
    "\n",
    "toc = time.time()\n",
    "print('time:', round(toc-tic, 2),'s')"
   ]
  },
  {
   "cell_type": "code",
   "execution_count": 87,
   "id": "f6bcac72",
   "metadata": {},
   "outputs": [
    {
     "data": {
      "text/plain": [
       "(0.3, 0.6)"
      ]
     },
     "execution_count": 87,
     "metadata": {},
     "output_type": "execute_result"
    },
    {
     "data": {
      "image/png": "[encoded data removed]",
      "text/plain": [
       "<Figure size 576x432 with 1 Axes>"
      ]
     },
     "metadata": {
      "needs_background": "light"
     },
     "output_type": "display_data"
    }
   ],
   "source": [
    "max_features = rf_cv.cv_results_['param_max_features'].data\n",
    "R2_scores = rf_cv.cv_results_['mean_test_score']\n",
    "\n",
    "plt.figure(figsize=(8, 6))\n",
    "plt.xlabel('max features', fontsize=16)\n",
    "plt.ylabel('Accuracy', fontsize=16)\n",
    "plt.scatter(max_features, R2_scores, s=30)\n",
    "plt.plot(max_features, R2_scores, linewidth=3)\n",
    "plt.grid(True, which='both')\n",
    "plt.xlim([1, 19])\n",
    "plt.ylim([0.3, 0.6])"
   ]
  },
  {
   "cell_type": "code",
   "execution_count": 88,
   "id": "19136fb5",
   "metadata": {},
   "outputs": [
    {
     "name": "stdout",
     "output_type": "stream",
     "text": [
      "{'max_features': 98, 'min_samples_leaf': 5, 'n_estimators': 100, 'random_state': 88}\n"
     ]
    }
   ],
   "source": [
    "print(rf_cv.best_params_)"
   ]
  },
  {
   "cell_type": "code",
   "execution_count": 89,
   "id": "8dee0491",
   "metadata": {},
   "outputs": [
    {
     "name": "stdout",
     "output_type": "stream",
     "text": [
      "Model Precision (R2): 0.58671\n",
      "Model Precision (OSR2): 0.56733\n"
     ]
    }
   ],
   "source": [
    "y_pred = rf_cv.predict(test_x)\n",
    "\n",
    "cm_rf = confusion_matrix(test_y, y_pred)\n",
    "\n",
    "print('Model Precision (R2):', round(rf_cv.best_score_, 5))\n",
    "RF_OSR2 = precision_score(test_y, y_pred, average='micro')\n",
    "print('Model Precision (OSR2):', round(RF_OSR2, 5))"
   ]
  },
  {
   "cell_type": "code",
   "execution_count": 90,
   "id": "a881b9a2",
   "metadata": {},
   "outputs": [
    {
     "data": {
      "image/png": "[encoded data removed]",
      "text/plain": [
       "<Figure size 432x288 with 2 Axes>"
      ]
     },
     "metadata": {
      "needs_background": "light"
     },
     "output_type": "display_data"
    }
   ],
   "source": [
    "#plotting Confussion Matrix\n",
    "\n",
    "cm_display2 = ConfusionMatrixDisplay(confusion_matrix = cm_rf, display_labels = class_names)\n",
    "\n",
    "\n",
    "cm_display2.plot()\n",
    "\n",
    "plt.show()"
   ]
  },
  {
   "cell_type": "markdown",
   "id": "30008b60",
   "metadata": {},
   "source": [
    "## 2.5  Bootstrap Validation with Confidence Interval Plot \n",
    "\n",
    "**Since our best model is Random Forest model with OSR2 of 0.56733, we will like to know with certainty how it will perform on future data**"
   ]
  },
  {
   "cell_type": "code",
   "execution_count": 91,
   "id": "b9e2f86f",
   "metadata": {},
   "outputs": [],
   "source": [
    "# manual implementation of bootstrap for model valiation.\n",
    "def bootstrap_validation2(test_data, test_label, train_label, model, metrics_list, sample=500, random_state=66):\n",
    "    n_sample = sample\n",
    "    n_metrics = len(metrics_list)\n",
    "    output_array=np.zeros([n_sample, n_metrics])\n",
    "    output_array[:]=np.nan\n",
    "    print(output_array.shape)\n",
    "    for bs_iter in range(n_sample):\n",
    "        bs_index = np.random.choice(test_data.index, len(test_data.index), replace=True)\n",
    "        bs_data = test_data.loc[bs_index]\n",
    "        bs_label = test_label.loc[bs_index]\n",
    "        bs_predicted = model.predict(bs_data)\n",
    "        for metrics_iter in range(n_metrics):\n",
    "            metrics = metrics_list[metrics_iter]\n",
    "            output_array[bs_iter, metrics_iter]=metrics(bs_label, bs_predicted, average='micro')                                                                                                                                                                                                                                                                                                         \n",
    "    output_df = pd.DataFrame(output_array)\n",
    "    return output_df"
   ]
  },
  {
   "cell_type": "code",
   "execution_count": 97,
   "id": "40a38197",
   "metadata": {},
   "outputs": [
    {
     "name": "stdout",
     "output_type": "stream",
     "text": [
      "(5000, 1)\n"
     ]
    }
   ],
   "source": [
    "#Carrying out Bootstrap for CART Model\n",
    "bs_output_rf = bootstrap_validation2(test_x,test_y,train_y,rf_cv,\n",
    "                                 metrics_list=[precision_score],\n",
    "                                 sample = 5000)"
   ]
  },
  {
   "cell_type": "code",
   "execution_count": null,
   "id": "ca48c153",
   "metadata": {},
   "outputs": [],
   "source": []
  },
  {
   "cell_type": "code",
   "execution_count": 98,
   "id": "9a95d391",
   "metadata": {},
   "outputs": [
    {
     "data": {
      "text/plain": [
       "(array([  1.,   4.,  14.,  24.,  67., 138., 245., 388., 557., 785., 756.,\n",
       "        665., 537., 389., 214., 128.,  59.,  15.,   9.,   5.]),\n",
       " array([-0.03566667, -0.03223333, -0.0288    , -0.02536667, -0.02193333,\n",
       "        -0.0185    , -0.01506667, -0.01163333, -0.0082    , -0.00476667,\n",
       "        -0.00133333,  0.0021    ,  0.00553333,  0.00896667,  0.0124    ,\n",
       "         0.01583333,  0.01926667,  0.0227    ,  0.02613333,  0.02956667,\n",
       "         0.033     ]),\n",
       " <BarContainer object of 20 artists>)"
      ]
     },
     "execution_count": 98,
     "metadata": {},
     "output_type": "execute_result"
    },
    {
     "data": {
      "image/png": "[encoded data removed]",
      "text/plain": [
       "<Figure size 864x360 with 2 Axes>"
      ]
     },
     "metadata": {
      "needs_background": "light"
     },
     "output_type": "display_data"
    }
   ],
   "source": [
    "fig, axs = plt.subplots(ncols=2, figsize=(12,5))\n",
    "axs[0].set_xlabel('Bootstrap OSR2 Estimate', fontsize=16)\n",
    "axs[1].set_xlabel('Boot OSR2 - RF OSR2', fontsize=16)\n",
    "axs[0].set_ylabel('Count', fontsize=16)\n",
    "axs[0].hist(bs_output_rf.iloc[:,0], bins=20,edgecolor='green', linewidth=2,color = \"grey\")\n",
    "axs[1].hist(bs_output_rf.iloc[:,0]-RF_OSR2, bins=20,edgecolor='green', linewidth=2,color = \"grey\")"
   ]
  },
  {
   "cell_type": "code",
   "execution_count": 99,
   "id": "6a4be208",
   "metadata": {},
   "outputs": [
    {
     "name": "stdout",
     "output_type": "stream",
     "text": [
      "The 95-percent confidence interval of OSR2 is [-0.018       0.01766667]\n"
     ]
    }
   ],
   "source": [
    "# The 95% confidence interval\n",
    "CI_RF = np.quantile(bs_output_rf.iloc[:,0]-RF_OSR2,np.array([0.025,0.975]))\n",
    "print(\"The 95-percent confidence interval of OSR2 is %s\" % CI_RF)"
   ]
  },
  {
   "cell_type": "code",
   "execution_count": 101,
   "id": "a45ac434",
   "metadata": {},
   "outputs": [
    {
     "data": {
      "text/plain": [
       "<matplotlib.collections.LineCollection at 0x7fbe6d461a00>"
      ]
     },
     "execution_count": 101,
     "metadata": {},
     "output_type": "execute_result"
    },
    {
     "data": {
      "image/png": "[encoded data removed]",
      "text/plain": [
       "<Figure size 576x432 with 1 Axes>"
      ]
     },
     "metadata": {
      "needs_background": "light"
     },
     "output_type": "display_data"
    }
   ],
   "source": [
    "fig, axs = plt.subplots(ncols=1, figsize=(8,6))\n",
    "axs.set_xlabel('Boot OSR2 - RF OSR2', fontsize=16)\n",
    "axs.set_ylabel('Count', fontsize=16)\n",
    "axs.hist(bs_output_rf.iloc[:,0]-RF_OSR2, bins=20,edgecolor='green', linewidth=2,color = \"grey\")\n",
    "axs.vlines(x=CI_RF[0], ymin = 0, ymax =800, color = \"black\")\n",
    "axs.vlines(x=CI_RF[1], ymin = 0, ymax =800, color = \"black\")"
   ]
  },
  {
   "cell_type": "markdown",
   "id": "45d8ab76",
   "metadata": {},
   "source": [
    "**In conclusion, since our confident interval contains Zero, we can say with 95% cofidence that our model will\n",
    "generate very similar result on future datasets**"
   ]
  },
  {
   "cell_type": "code",
   "execution_count": null,
   "id": "0fd2e65b",
   "metadata": {},
   "outputs": [],
   "source": []
  },
  {
   "cell_type": "code",
   "execution_count": null,
   "id": "c3cef165",
   "metadata": {},
   "outputs": [],
   "source": []
  }
 ],
 "metadata": {
  "kernelspec": {
   "display_name": "Python 3 (ipykernel)",
   "language": "python",
   "name": "python3"
  },
  "language_info": {
   "codemirror_mode": {
    "name": "ipython",
    "version": 3
   },
   "file_extension": ".py",
   "mimetype": "text/x-python",
   "name": "python",
   "nbconvert_exporter": "python",
   "pygments_lexer": "ipython3",
   "version": "3.9.12"
  }
 },
 "nbformat": 4,
 "nbformat_minor": 5
}
